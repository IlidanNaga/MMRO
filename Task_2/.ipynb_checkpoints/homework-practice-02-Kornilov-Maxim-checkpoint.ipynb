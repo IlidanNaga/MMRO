{
 "cells": [
  {
   "cell_type": "markdown",
   "metadata": {},
   "source": [
    "## Машинное обучение, ВМК МГУ\n",
    "\n",
    "## Практическое задание 2\n",
    "\n",
    "### Общая информация\n",
    "Дата выдачи: 9 октября 2019\n",
    "\n",
    "Максимальная оценка: 10 баллов + 1 бонусный балл\n",
    "\n",
    "Мягкий дедлайн: 23:59MSK 23 октября (за каждый день просрочки снимается 1 балл)\n",
    "\n",
    "Жесткий дедлайн: 23:59MSK 30 октября."
   ]
  },
  {
   "cell_type": "markdown",
   "metadata": {},
   "source": [
    "### О задании\n",
    "\n",
    "В этом задании вы:\n",
    "- Познакомитесь с методом решения задачи регрессии на основе метода ближайших соседей.\n",
    "- Реализуете алгоритм kNN для задачи регрессии.\n",
    "- Изучите методы работы с категориальными и текстовыми переменными.\n",
    "\n",
    "\n",
    "### Оценивание и штрафы\n",
    "Каждая из задач имеет определенную «стоимость» (указана в скобках около задачи). Максимально допустимая оценка за работу — 10 баллов.\n",
    "\n",
    "Сдавать задание после указанного срока сдачи нельзя. При выставлении неполного балла за задание в связи с наличием ошибок на усмотрение проверяющего предусмотрена возможность исправить работу на указанных в ответном письме условиях.\n",
    "\n",
    "Задание выполняется самостоятельно. «Похожие» решения считаются плагиатом и все задействованные студенты (в том числе те, у кого списали) не могут получить за него больше 0 баллов (подробнее о плагиате см. на странице курса). Если вы нашли решение какого-то из заданий (или его часть) в открытом источнике, необходимо указать ссылку на этот источник в отдельном блоке в конце вашей работы (скорее всего вы будете не единственным, кто это нашел, поэтому чтобы исключить подозрение в плагиате, необходима ссылка на источник).\n",
    "\n",
    "Неэффективная реализация кода может негативно отразиться на оценке.\n",
    "\n",
    "\n",
    "### Формат сдачи\n",
    "Для сдачи задания переименуйте получившийся файл *.ipynb в соответствии со следующим форматом: homework-practice-02-Username.ipynb, где Username — ваша фамилия и имя на латинице именно в таком порядке (например, homework-practice-02-ivanov.ipynb).\n",
    "\n",
    "Далее отправьте этот файл на anytask в соответсвующий раздел."
   ]
  },
  {
   "cell_type": "code",
   "execution_count": 1,
   "metadata": {},
   "outputs": [],
   "source": [
    "import numpy as np\n",
    "import pandas as pd\n",
    "\n",
    "from sklearn.model_selection import train_test_split\n",
    "\n",
    "from sklearn.metrics import mean_absolute_error"
   ]
  },
  {
   "cell_type": "code",
   "execution_count": 2,
   "metadata": {},
   "outputs": [],
   "source": [
    "def RMSE(predictions, targets):\n",
    "    n = len(predictions)\n",
    "    rmse = np.linalg.norm(predictions - targets) / np.sqrt(n)\n",
    "    return rmse"
   ]
  },
  {
   "cell_type": "markdown",
   "metadata": {},
   "source": [
    "Все эксперименты в этой лабораторной работе предлагается проводить на данных соревнования New York City Airbnb Open Data: https://www.kaggle.com/dgomonov/new-york-city-airbnb-open-data#AB_NYC_2019.csv\n",
    "\n",
    "В данной задаче предлагается предсказать цену на съем квартиры в зависимости от её параметров."
   ]
  },
  {
   "cell_type": "code",
   "execution_count": 290,
   "metadata": {},
   "outputs": [
    {
     "data": {
      "text/html": [
       "<div>\n",
       "<style scoped>\n",
       "    .dataframe tbody tr th:only-of-type {\n",
       "        vertical-align: middle;\n",
       "    }\n",
       "\n",
       "    .dataframe tbody tr th {\n",
       "        vertical-align: top;\n",
       "    }\n",
       "\n",
       "    .dataframe thead th {\n",
       "        text-align: right;\n",
       "    }\n",
       "</style>\n",
       "<table border=\"1\" class=\"dataframe\">\n",
       "  <thead>\n",
       "    <tr style=\"text-align: right;\">\n",
       "      <th></th>\n",
       "      <th>id</th>\n",
       "      <th>name</th>\n",
       "      <th>host_id</th>\n",
       "      <th>host_name</th>\n",
       "      <th>neighbourhood_group</th>\n",
       "      <th>neighbourhood</th>\n",
       "      <th>latitude</th>\n",
       "      <th>longitude</th>\n",
       "      <th>room_type</th>\n",
       "      <th>price</th>\n",
       "      <th>minimum_nights</th>\n",
       "      <th>number_of_reviews</th>\n",
       "      <th>last_review</th>\n",
       "      <th>reviews_per_month</th>\n",
       "      <th>calculated_host_listings_count</th>\n",
       "      <th>availability_365</th>\n",
       "    </tr>\n",
       "  </thead>\n",
       "  <tbody>\n",
       "    <tr>\n",
       "      <td>0</td>\n",
       "      <td>2539</td>\n",
       "      <td>Clean &amp; quiet apt home by the park</td>\n",
       "      <td>2787</td>\n",
       "      <td>John</td>\n",
       "      <td>Brooklyn</td>\n",
       "      <td>Kensington</td>\n",
       "      <td>40.64749</td>\n",
       "      <td>-73.97237</td>\n",
       "      <td>Private room</td>\n",
       "      <td>149</td>\n",
       "      <td>1</td>\n",
       "      <td>9</td>\n",
       "      <td>2018-10-19</td>\n",
       "      <td>0.21</td>\n",
       "      <td>6</td>\n",
       "      <td>365</td>\n",
       "    </tr>\n",
       "    <tr>\n",
       "      <td>1</td>\n",
       "      <td>2595</td>\n",
       "      <td>Skylit Midtown Castle</td>\n",
       "      <td>2845</td>\n",
       "      <td>Jennifer</td>\n",
       "      <td>Manhattan</td>\n",
       "      <td>Midtown</td>\n",
       "      <td>40.75362</td>\n",
       "      <td>-73.98377</td>\n",
       "      <td>Entire home/apt</td>\n",
       "      <td>225</td>\n",
       "      <td>1</td>\n",
       "      <td>45</td>\n",
       "      <td>2019-05-21</td>\n",
       "      <td>0.38</td>\n",
       "      <td>2</td>\n",
       "      <td>355</td>\n",
       "    </tr>\n",
       "  </tbody>\n",
       "</table>\n",
       "</div>"
      ],
      "text/plain": [
       "     id                                name  host_id host_name  \\\n",
       "0  2539  Clean & quiet apt home by the park     2787      John   \n",
       "1  2595               Skylit Midtown Castle     2845  Jennifer   \n",
       "\n",
       "  neighbourhood_group neighbourhood  latitude  longitude        room_type  \\\n",
       "0            Brooklyn    Kensington  40.64749  -73.97237     Private room   \n",
       "1           Manhattan       Midtown  40.75362  -73.98377  Entire home/apt   \n",
       "\n",
       "   price  minimum_nights  number_of_reviews last_review  reviews_per_month  \\\n",
       "0    149               1                  9  2018-10-19               0.21   \n",
       "1    225               1                 45  2019-05-21               0.38   \n",
       "\n",
       "   calculated_host_listings_count  availability_365  \n",
       "0                               6               365  \n",
       "1                               2               355  "
      ]
     },
     "execution_count": 290,
     "metadata": {},
     "output_type": "execute_result"
    }
   ],
   "source": [
    "data = pd.read_csv('AB_NYC_2019.csv')\n",
    "data.head(2)"
   ]
  },
  {
   "cell_type": "code",
   "execution_count": 291,
   "metadata": {},
   "outputs": [
    {
     "data": {
      "text/plain": [
       "(48895, 16)"
      ]
     },
     "execution_count": 291,
     "metadata": {},
     "output_type": "execute_result"
    }
   ],
   "source": [
    "data.shape"
   ]
  },
  {
   "cell_type": "code",
   "execution_count": 292,
   "metadata": {},
   "outputs": [
    {
     "name": "stdout",
     "output_type": "stream",
     "text": [
      "id 48895\n",
      "name 47906\n",
      "host_id 37457\n",
      "host_name 11453\n",
      "neighbourhood_group 5\n",
      "neighbourhood 221\n",
      "latitude 19048\n",
      "longitude 14718\n",
      "room_type 3\n",
      "price 674\n",
      "minimum_nights 109\n",
      "number_of_reviews 394\n",
      "last_review 1765\n",
      "reviews_per_month 938\n",
      "calculated_host_listings_count 47\n",
      "availability_365 366\n"
     ]
    }
   ],
   "source": [
    "# число значений у признаков\n",
    "for col_name in data.columns:\n",
    "    print(col_name, len(data[col_name].unique()))"
   ]
  },
  {
   "cell_type": "code",
   "execution_count": 293,
   "metadata": {},
   "outputs": [
    {
     "data": {
      "text/plain": [
       "id                                    0\n",
       "name                                 16\n",
       "host_id                               0\n",
       "host_name                            21\n",
       "neighbourhood_group                   0\n",
       "neighbourhood                         0\n",
       "latitude                              0\n",
       "longitude                             0\n",
       "room_type                             0\n",
       "price                                 0\n",
       "minimum_nights                        0\n",
       "number_of_reviews                     0\n",
       "last_review                       10052\n",
       "reviews_per_month                 10052\n",
       "calculated_host_listings_count        0\n",
       "availability_365                      0\n",
       "dtype: int64"
      ]
     },
     "execution_count": 293,
     "metadata": {},
     "output_type": "execute_result"
    }
   ],
   "source": [
    "data.isna().sum()"
   ]
  },
  {
   "cell_type": "markdown",
   "metadata": {},
   "source": [
    "Как видите, в данных есть пропуски. Не забудьте обработать их"
   ]
  },
  {
   "cell_type": "code",
   "execution_count": 294,
   "metadata": {},
   "outputs": [],
   "source": [
    "# Ваш код здесь (ノ°∀°)ノ⌒･*:.｡. .｡.:*･゜ﾟ･*☆"
   ]
  },
  {
   "cell_type": "code",
   "execution_count": 295,
   "metadata": {},
   "outputs": [],
   "source": [
    "data['reviews_per_month'].fillna(0, inplace=True)\n",
    "data['name'].fillna(\"No_name\", inplace=True)\n",
    "data['host_name'].fillna(\"No_name\", inplace=True)\n",
    "data['last_review'].fillna(\"No_reviews\", inplace=True)"
   ]
  },
  {
   "cell_type": "markdown",
   "metadata": {},
   "source": [
    "Разобъем данные на обучение и контроль."
   ]
  },
  {
   "cell_type": "code",
   "execution_count": 9,
   "metadata": {
    "scrolled": false
   },
   "outputs": [],
   "source": [
    "from sklearn.model_selection import train_test_split\n",
    "X_train, X_test, y_train, y_test = train_test_split(data.drop(columns=['price']), data[['price']],\n",
    "                                                    test_size=0.3, random_state=241)"
   ]
  },
  {
   "cell_type": "markdown",
   "metadata": {},
   "source": [
    "## Часть 1: Алгоритм kNN в задаче регрессии"
   ]
  },
  {
   "cell_type": "markdown",
   "metadata": {},
   "source": [
    "<b> 1.1 (1.5 балла) </b>\n",
    "Реализуйте класс `KNNRegressor`, который используя метод k ближайших соседей решает задачу регрессии. Для решение данной задачи, необходимо найти $N_k$ - k соседей, и после использовать значения их целевых переменных для предсказания:\n",
    "\\begin{align}\n",
    "y = \\frac{1}{k}\\sum_{n \\in N_k}w_n y_n,\n",
    "\\end{align}\n",
    "\n",
    "где $w_n$ - вес каждого соседа. \n",
    "\n",
    "При этом `KNNRegressor` может работать в 2 режимах:\n",
    " - $uniform$ - ближайшие соседи учитываются с одинаковыми весами.\n",
    " - $distance$ - вес ближайших соседей зависит от расстояния\n",
    " \n",
    "Сигнатуру методов при желании можно менять."
   ]
  },
  {
   "cell_type": "code",
   "execution_count": 10,
   "metadata": {},
   "outputs": [],
   "source": [
    "from typing import Union, Callable, Iterable, Optional\n",
    "from sklearn.neighbors import NearestNeighbors\n",
    "\n",
    "\n",
    "def make_weights(input_arr: np.array):\n",
    "    all_dist = np.sum(input_arr)\n",
    "    if all_dist == 0:\n",
    "        return input_arr + (1/input_arr.__len__())\n",
    "    return input_arr / all_dist\n",
    "\n",
    "class KNNRegressor:\n",
    "    def __init__(self, n_neighbors: int,\n",
    "                 metric: Union[str, Callable],\n",
    "                 mode: str = 'uniform',\n",
    "                 algorithm: str = 'brute') -> None:\n",
    "        \"\"\"\n",
    "        params:\n",
    "            n_neighbors: number of neighbors\n",
    "            metric: metric to use for distance computation\n",
    "            mode: 'uniform' or 'distance'\n",
    "            'uniform' - all points in each neighborhood are weighted equally\n",
    "            'distance' - weight points by the inverse of their distance\n",
    "        \"\"\"\n",
    "        \n",
    "        self.metric = metric\n",
    "        self.ne = NearestNeighbors(n_neighbors=n_neighbors, algorithm=algorithm, metric=metric, n_jobs = -1)\n",
    "        \n",
    "        if mode != 'uniform' and mode != 'distance':\n",
    "            raise TypeError\n",
    "        self.mode = mode\n",
    "        self.k = n_neighbors\n",
    "        \n",
    "    def changeCatMetric(self, metric: Callable):\n",
    "        \n",
    "        if ('overlap' not in str(metric)):\n",
    "            raise TypeError\n",
    "            \n",
    "        self.metric = metric\n",
    "        \n",
    "    def changeMode(self, mode: str):\n",
    "        if mode != 'uniform' and mode != 'distance':\n",
    "            raise TypeError\n",
    "        self.mode = mode\n",
    "\n",
    "    def fit(self, X: np.array, y: np.array) -> None:\n",
    "        \"\"\"\n",
    "            X: data\n",
    "            y: labels\n",
    "        \"\"\"\n",
    "        self.train_target = y\n",
    "        \n",
    "        if ('overlap' in str(self.metric)):\n",
    "            # здесь оно подаёт нормально, index = элемент\n",
    "            if X.shape.__len__() == 1:\n",
    "                self.train_set = X[:, None]\n",
    "                print(X[:, None].shape, self.train_set.shape)\n",
    "            else:\n",
    "                self.train_set = X\n",
    "\n",
    "        else:\n",
    "            self.ne.fit(X, y)\n",
    "        \n",
    "        \n",
    "        \n",
    "    def kneighbors(self, X: np.array,weights = None, k = 0, return_distance: bool = True):\n",
    "        \n",
    "        if ('overlap' in str(self.metric)):\n",
    "            \"\"\"categorial metric area, we'd have to calculate distance for each of attributes separately\n",
    "               как я решил строить входные данные для этого метода - по строкам расположены данные столбцов входных данных\n",
    "               метрики будут возвращать соседей по строкам для каждого элемента по каждому из признаков\n",
    "               потом мы просуммируем эти элементы\"\"\"\n",
    "            \n",
    "            if weights is None:\n",
    "                coeffs = np.ones(self.train_set.shape[1])\n",
    "            else:\n",
    "                coeffs = weights\n",
    "            \n",
    "            if k == 0:\n",
    "                k = self.k\n",
    "\n",
    "            if X.shape.__len__() == 1:\n",
    "                test = X[None, :]\n",
    "            else:\n",
    "                test = X\n",
    "\n",
    "                \n",
    "            # Пока что попробуем просто mae по всем элементам\n",
    "            dist_by_ind = np.zeros(self.train_set.__len__() * test.__len__()).reshape(test.__len__(), -1)\n",
    "\n",
    "            for index in range(self.train_set.shape[1]):\n",
    "                dist_by_ind += coeffs[index] * self.metric(self.train_set.T[index], test.T[index])\n",
    "                # по идее, оно должно найти расстояния по 1 из кат. признаков\n",
    "                \n",
    "            indexes = np.argsort(dist_by_ind, axis=1)[:, :k]\n",
    "            \n",
    "            if return_distance:\n",
    "                distances = np.empty(indexes.shape)\n",
    "                for enum, item in enumerate(indexes):\n",
    "                    distances[enum] = dist_by_ind[enum, indexes[enum]]\n",
    "                return distances, indexes\n",
    "            \n",
    "            return indexes\n",
    "            \n",
    "        else:\n",
    "            if k == 0:\n",
    "                return self.ne.kneighbors(X, return_distance=return_distance)\n",
    "            return self.ne.kneighbors(X,n_neighbors=k, return_distance=return_distance)\n",
    "\n",
    "    def predict(self, X: np.array, weights=None, n_neighbors: Optional[int] = None) -> np.array:\n",
    "        \"\"\"\n",
    "            X: data\n",
    "            n_neighbors: number of neighbors\n",
    "        \"\"\" \n",
    "        \n",
    "        # checking for which k we have to make our neighbors\n",
    "        if n_neighbors is None:\n",
    "            k = self.k\n",
    "        else:\n",
    "            if n_neighbors > 0:\n",
    "                k = n_neighbors\n",
    "            else:\n",
    "                k = self.k\n",
    "\n",
    "        test_target = np.empty(X.__len__())\n",
    "        \n",
    "        if self.mode == 'uniform':\n",
    "            nearest = self.kneighbors(X, weights, k, return_distance=False)\n",
    "            print(nearest.shape)\n",
    "            for enum in range(X.__len__()):\n",
    "                target = 0\n",
    "                \n",
    "                for numb in range(nearest[enum].__len__()):\n",
    "                    target += self.train_target[nearest[enum][numb]] / k\n",
    "                test_target[enum] = target\n",
    "\n",
    "        else:\n",
    "            dist, nearest = self.kneighbors(X, weights, k, return_distance=True)\n",
    "\n",
    "            for enum in range(X.__len__()):\n",
    "                target = 0\n",
    "                weights = make_weights(dist[enum])\n",
    "                \n",
    "                for numb in range(nearest[enum].__len__()):\n",
    "                    target += self.train_target[nearest[enum, numb]] * weights[numb]\n",
    "\n",
    "                test_target[enum] = target\n",
    "                \n",
    "        return test_target"
   ]
  },
  {
   "cell_type": "markdown",
   "metadata": {},
   "source": [
    "## Часть 2: Категориальные признаки"
   ]
  },
  {
   "cell_type": "markdown",
   "metadata": {},
   "source": [
    "<b>2.1 (1 балл)</b>\n",
    "Реализуйте три функции расстояния на категориальных признаках, которые обсуждались на [третьем семинаре](https://github.com/mmp-mmro-team/mmp_mmro_fall_2019/blob/master/lecture-notes/Sem03_knn.pdf). Не забудьте, что KNNRegressor должен уметь работать с этими функциями расстояния. Как вариант, можно реализовать метрики как [user-defined distance](http://scikit-learn.org/stable/modules/generated/sklearn.neighbors.DistanceMetric.html)."
   ]
  },
  {
   "cell_type": "raw",
   "metadata": {},
   "source": [
    "Они работают так, как метрики из sklearn только в комбинации с моим KNNRegressor (было сделано так, чтобы работало быстрее). Они принимают исключительно вектор-строки и считают, что каждый элемент этой строки - уникальный объект (точнее, его признак по этой переменной)"
   ]
  },
  {
   "cell_type": "code",
   "execution_count": 11,
   "metadata": {},
   "outputs": [],
   "source": [
    "def getComonness(array: np.array):\n",
    "    \"\"\"Процент каждого объекта классфикации в выборке + объект на соотв. позиции\"\"\"\n",
    "    uniques, counts = np.unique(array, return_counts=True)\n",
    "    return counts / np.sum(counts), uniques\n",
    "\n",
    "def getFFunc(array: np.array):\n",
    "    \"\"\"Шанс встретить 2 случайных одинаковых объектов в выборке, отсортированный в словаре\"\"\"\n",
    "    uniques, counts = np.unique(array, return_counts=True)\n",
    "    first_func = (counts * (counts - 1)) / np.sum(counts) / (np.sum(counts) - 1)\n",
    "    \n",
    "    return first_func"
   ]
  },
  {
   "cell_type": "code",
   "execution_count": 289,
   "metadata": {},
   "outputs": [],
   "source": [
    "from math import log\n",
    "def overlap(x, z):\n",
    "    \"\"\"0 при совпадении, 1 иначе\"\"\"\n",
    "    array = np.empty([x.__len__(), z.__len__()])\n",
    "    \n",
    "    for enum in range(array.__len__()):\n",
    "        array[enum] = z != x[enum]\n",
    "    \n",
    "    return array.T\n",
    "\n",
    "def flattened_overlap(x, z):\n",
    "    \"\"\"1 при различных, иначе какая-то дичь\"\"\"\n",
    "    comonness, uniques = getComonness(x)\n",
    "    f_func = getFFunc(x)\n",
    "    \n",
    "    array = np.empty([x.__len__(), z.__len__()]).astype(float)\n",
    "    \n",
    "    for enum in range(array.__len__()):\n",
    "        \n",
    "        pos = np.where(uniques == x[enum])[0][0]\n",
    "        part_sum = (np.argwhere(comonness <= comonness[pos]))\n",
    "        array[enum] = (z != x[enum]).astype(float) + (z == x[enum]).astype(float) * f_func[part_sum.T[0]].sum()\n",
    "\n",
    "    return array.T\n",
    "\n",
    "def log_overlap(x, z):\n",
    "    \"\"\"0 при совпадении, иначе какая-то дичь\"\"\"\n",
    "    def get_pos(uniques, item):\n",
    "        return np.argwhere(uniques == item)[0][0]\n",
    "    \n",
    "    def make_comonness_for_z():\n",
    "        uniques_z, counts_z = np.unique(z, return_counts=True)\n",
    "        \n",
    "        comonness_line = np.empty(z.__len__())\n",
    "        \n",
    "        for enum, item in enumerate(z):\n",
    "            comonness_line[enum] = counts_z[get_pos(uniques_z, item)]\n",
    "            \n",
    "        return comonness_line\n",
    "        \n",
    "   \n",
    "    array = np.empty([x.__len__(), z.__len__()]).astype(float)\n",
    "    \n",
    "    uniques, comonness = np.unique(x, return_counts=True)\n",
    "    comonness_line = np.log(make_comonness_for_z() + 1)\n",
    "    \n",
    "    for enum in range(array.__len__()):\n",
    "        \n",
    "        array[enum] = (z != x[enum]).astype(float) * log(comonness[get_pos(uniques, x[enum])] + 1) * comonness_line\n",
    "        \n",
    "    return array.T"
   ]
  },
  {
   "cell_type": "markdown",
   "metadata": {},
   "source": [
    "<b>2.2 (1 балл)</b> Найдите все категориальные признаки в данных. Подсчитайте для каждой из метрик качество на тестовой выборке `X_test` при числе соседей $k = 10$. Качество измеряйте с помощью RMSE.\n",
    "\n",
    "Какая функция расстояния оказалась лучшей? Почему?"
   ]
  },
  {
   "cell_type": "code",
   "execution_count": 160,
   "metadata": {},
   "outputs": [],
   "source": [
    "target = np.array(data['price'])\n",
    "cat_data = np.array((data['name'],\n",
    "                     data['host_name'],\n",
    "                     data['neighbourhood_group'],\n",
    "                     data['neighbourhood'],\n",
    "                     data['room_type'], \n",
    "                     data['last_review'])).T"
   ]
  },
  {
   "cell_type": "code",
   "execution_count": 161,
   "metadata": {},
   "outputs": [],
   "source": [
    "train_data, test_data, train_target, test_target = train_test_split(cat_data, target,\n",
    "                                                    test_size=0.3, random_state=241)"
   ]
  },
  {
   "cell_type": "code",
   "execution_count": 162,
   "metadata": {},
   "outputs": [],
   "source": [
    "knn = KNNRegressor(10, overlap, 'uniform', 'brute')"
   ]
  },
  {
   "cell_type": "code",
   "execution_count": 163,
   "metadata": {},
   "outputs": [],
   "source": [
    "knn.fit(train_data, train_target)"
   ]
  },
  {
   "cell_type": "code",
   "execution_count": 17,
   "metadata": {},
   "outputs": [
    {
     "name": "stdout",
     "output_type": "stream",
     "text": [
      "(14669, 10)\n",
      "CPU times: user 2min 48s, sys: 1min 38s, total: 4min 27s\n",
      "Wall time: 5min 1s\n"
     ]
    }
   ],
   "source": [
    "%time res_overlap = knn.predict(test_data)"
   ]
  },
  {
   "cell_type": "code",
   "execution_count": 165,
   "metadata": {},
   "outputs": [],
   "source": [
    "knn.changeCatMetric(flattened_overlap)"
   ]
  },
  {
   "cell_type": "code",
   "execution_count": 166,
   "metadata": {},
   "outputs": [
    {
     "name": "stdout",
     "output_type": "stream",
     "text": [
      "(14669, 10)\n",
      "CPU times: user 5min 3s, sys: 1min 50s, total: 6min 53s\n",
      "Wall time: 7min 26s\n"
     ]
    }
   ],
   "source": [
    "%time res_flat = knn.predict(test_data)"
   ]
  },
  {
   "cell_type": "code",
   "execution_count": 173,
   "metadata": {},
   "outputs": [
    {
     "data": {
      "text/plain": [
       "(211.1608737000562, 74.28556820505828)"
      ]
     },
     "execution_count": 173,
     "metadata": {},
     "output_type": "execute_result"
    }
   ],
   "source": [
    "RMSE(test_target, res_flat), mean_absolute_error(test_target, res_flat)"
   ]
  },
  {
   "cell_type": "code",
   "execution_count": 21,
   "metadata": {},
   "outputs": [
    {
     "name": "stdout",
     "output_type": "stream",
     "text": [
      "(14669, 10)\n",
      "CPU times: user 4min 48s, sys: 1min 34s, total: 6min 22s\n",
      "Wall time: 6min 48s\n"
     ]
    }
   ],
   "source": [
    "%time res_weightened = knn.predict(test_data, weights=np.array([1, 1, 2, 1, 3, 1]))"
   ]
  },
  {
   "cell_type": "code",
   "execution_count": 22,
   "metadata": {},
   "outputs": [
    {
     "data": {
      "text/plain": [
       "(210.4698028391511, 72.79314200013634)"
      ]
     },
     "execution_count": 22,
     "metadata": {},
     "output_type": "execute_result"
    }
   ],
   "source": [
    "RMSE(test_target, res_weightened), mean_absolute_error(test_target, res_weightened)"
   ]
  },
  {
   "cell_type": "code",
   "execution_count": 174,
   "metadata": {},
   "outputs": [
    {
     "name": "stdout",
     "output_type": "stream",
     "text": [
      "(14669, 10)\n",
      "CPU times: user 5min 8s, sys: 1min 41s, total: 6min 50s\n",
      "Wall time: 7min 16s\n"
     ]
    }
   ],
   "source": [
    "%time res_3_cat = knn.predict(test_data, weights=np.array([0, 0, 1, 1, 1, 0]))"
   ]
  },
  {
   "cell_type": "code",
   "execution_count": 175,
   "metadata": {},
   "outputs": [
    {
     "data": {
      "text/plain": [
       "(215.09793258725924, 75.60127479719137)"
      ]
     },
     "execution_count": 175,
     "metadata": {},
     "output_type": "execute_result"
    }
   ],
   "source": [
    "RMSE(test_target, res_3_cat), mean_absolute_error(test_target, res_3_cat)"
   ]
  },
  {
   "cell_type": "code",
   "execution_count": 23,
   "metadata": {},
   "outputs": [],
   "source": [
    "knn.changeCatMetric(log_overlap)"
   ]
  },
  {
   "cell_type": "code",
   "execution_count": 24,
   "metadata": {},
   "outputs": [
    {
     "name": "stdout",
     "output_type": "stream",
     "text": [
      "(14669, 10)\n",
      "CPU times: user 4min 38s, sys: 2min 33s, total: 7min 11s\n",
      "Wall time: 9min 23s\n"
     ]
    }
   ],
   "source": [
    "%time res_log = knn.predict(test_data)"
   ]
  },
  {
   "cell_type": "code",
   "execution_count": 246,
   "metadata": {},
   "outputs": [
    {
     "name": "stdout",
     "output_type": "stream",
     "text": [
      "RMSE overlap:  218.080625930482\n",
      "RMSE flat:  211.1608737000562\n",
      "RMSE weightened flat:  210.4698028391511\n",
      "RMSE log:  243.12859726370527\n",
      "RMSE only 3 features:  215.09793258725924\n"
     ]
    }
   ],
   "source": [
    "print(\"RMSE overlap: \", RMSE(test_target, res_overlap))\n",
    "print(\"RMSE flat: \", RMSE(test_target, res_flat))\n",
    "print(\"RMSE weightened flat: \", RMSE(test_target, res_weightened))\n",
    "print(\"RMSE log: \", RMSE(test_target, res_log))\n",
    "print(\"RMSE only 3 features: \", RMSE(test_target, res_3_cat))"
   ]
  },
  {
   "cell_type": "code",
   "execution_count": 247,
   "metadata": {},
   "outputs": [
    {
     "name": "stdout",
     "output_type": "stream",
     "text": [
      "MAE overlap:  75.19959779126047\n",
      "MAE flat:  74.28556820505828\n",
      "MAE weightened flat:  72.79314200013634\n",
      "MAE log:  88.04206830731475\n",
      "MAE only 3 features:  75.60127479719137\n"
     ]
    }
   ],
   "source": [
    "print(\"MAE overlap: \", mean_absolute_error(test_target, res_overlap))\n",
    "print(\"MAE flat: \", mean_absolute_error(test_target, res_flat))\n",
    "print(\"MAE weightened flat: \", mean_absolute_error(test_target, res_weightened))\n",
    "print(\"MAE log: \", mean_absolute_error(test_target, res_log))\n",
    "print(\"MAE only 3 features: \", mean_absolute_error(test_target, res_3_cat))"
   ]
  },
  {
   "cell_type": "markdown",
   "metadata": {},
   "source": [
    "## Лучшая метрика - flattened_overlap, с методом distance\n",
    "Она является лучшей среди трех из-за специфики их построения: \n",
    "flattened_overlap может и разделять объекты, и указывать их степень схожести, но, при этом\n",
    "\n",
    "* overlap - разделяет разные объекты, но не позволяет узнать степень схожести похожих\n",
    "* log_overlap - может не разделить объекты различных классов, т.к. оба эти класса малы, а она оперирует лишь степенью схожести\n"
   ]
  },
  {
   "cell_type": "markdown",
   "metadata": {},
   "source": [
    "<b>2.3 (1 балл) бонус</b> Подберите лучшее (на тестовой выборке) число соседей $k$ для каждой из функций расстояния. Какого удалось достичь уровня качества?"
   ]
  },
  {
   "cell_type": "code",
   "execution_count": 27,
   "metadata": {},
   "outputs": [],
   "source": [
    "knn = KNNRegressor(200, overlap, \"uniform\", \"brute\")"
   ]
  },
  {
   "cell_type": "code",
   "execution_count": 28,
   "metadata": {},
   "outputs": [],
   "source": [
    "knn.fit(train_data, train_target)"
   ]
  },
  {
   "cell_type": "code",
   "execution_count": 29,
   "metadata": {},
   "outputs": [
    {
     "name": "stdout",
     "output_type": "stream",
     "text": [
      "CPU times: user 2min 43s, sys: 1min 35s, total: 4min 19s\n",
      "Wall time: 4min 51s\n"
     ]
    }
   ],
   "source": [
    "%time all_neigbhors = knn.kneighbors(test_data, return_distance=False)"
   ]
  },
  {
   "cell_type": "code",
   "execution_count": 30,
   "metadata": {},
   "outputs": [
    {
     "data": {
      "text/plain": [
       "array([[11508, 22157,  8784, ..., 20299,  4602, 33257],\n",
       "       [20850, 26735, 16318, ..., 31389,  4389,  1213],\n",
       "       [ 2886, 19677,  4575, ..., 27788, 13629,  6214],\n",
       "       ...,\n",
       "       [16690, 28281, 28854, ...,  7088, 25259, 20723],\n",
       "       [ 7842, 28586,  5643, ..., 15242, 15243, 15244],\n",
       "       [10045, 28084,  9743, ..., 17825,  3244, 24085]])"
      ]
     },
     "execution_count": 30,
     "metadata": {},
     "output_type": "execute_result"
    }
   ],
   "source": [
    "all_neigbhors"
   ]
  },
  {
   "cell_type": "code",
   "execution_count": 31,
   "metadata": {},
   "outputs": [
    {
     "name": "stdout",
     "output_type": "stream",
     "text": [
      "RMSE 348.80891250204843 for k=1\n",
      "RMSE 269.8151733302264 for k=2\n",
      "RMSE 248.43189220457555 for k=3\n",
      "RMSE 238.28485329410668 for k=4\n",
      "RMSE 229.64584926119588 for k=5\n",
      "RMSE 228.0481832692624 for k=6\n",
      "RMSE 224.96506392754407 for k=7\n",
      "RMSE 221.43948375283375 for k=8\n",
      "RMSE 219.8369906895742 for k=9\n",
      "RMSE 218.080625930482 for k=10\n",
      "RMSE 217.1005389083089 for k=11\n",
      "RMSE 215.55794134789585 for k=12\n",
      "RMSE 214.7706920536498 for k=13\n",
      "RMSE 214.07840663932336 for k=14\n",
      "RMSE 213.33395946788727 for k=15\n",
      "RMSE 212.94811658399954 for k=16\n",
      "RMSE 212.52242592543428 for k=17\n",
      "RMSE 212.2694923981591 for k=18\n",
      "RMSE 211.92325657850893 for k=19\n",
      "RMSE 211.65978618715621 for k=20\n",
      "RMSE 211.17158841114596 for k=21\n",
      "RMSE 210.93243341032843 for k=22\n",
      "RMSE 210.66537153392827 for k=23\n",
      "RMSE 210.53080384935694 for k=24\n",
      "RMSE 210.33986784452864 for k=25\n",
      "RMSE 210.04632904881086 for k=26\n",
      "RMSE 209.9283535301398 for k=27\n",
      "RMSE 209.7496380064909 for k=28\n",
      "RMSE 209.57652858671588 for k=29\n",
      "RMSE 209.51320755418845 for k=30\n",
      "RMSE 209.21799216427706 for k=31\n",
      "RMSE 208.89091174592548 for k=32\n",
      "RMSE 208.6563065103507 for k=33\n",
      "RMSE 208.63231315275993 for k=34\n",
      "RMSE 208.65592748694877 for k=35\n",
      "RMSE 208.46867960998355 for k=36\n",
      "RMSE 208.33877895241272 for k=37\n",
      "RMSE 208.15716786750838 for k=38\n",
      "RMSE 208.1575581520026 for k=39\n",
      "RMSE 208.0968268493038 for k=40\n",
      "RMSE 207.97643773351717 for k=41\n",
      "RMSE 207.93313163723005 for k=42\n",
      "RMSE 207.98469627011892 for k=43\n",
      "RMSE 208.03325712789444 for k=44\n",
      "RMSE 208.04203755399362 for k=45\n",
      "RMSE 208.10604450448847 for k=46\n",
      "RMSE 208.07981379769882 for k=47\n",
      "RMSE 208.13529865571917 for k=48\n",
      "RMSE 208.13497299961458 for k=49\n",
      "RMSE 208.09694190663902 for k=50\n",
      "RMSE 208.033359658268 for k=51\n",
      "RMSE 208.0136402160339 for k=52\n",
      "RMSE 208.01666443924273 for k=53\n",
      "RMSE 207.91083433389295 for k=54\n",
      "RMSE 207.932101212607 for k=55\n",
      "RMSE 207.90802127290652 for k=56\n",
      "RMSE 207.9330954054695 for k=57\n",
      "RMSE 207.93648136682492 for k=58\n",
      "RMSE 207.8631042414828 for k=59\n",
      "RMSE 207.83183139891935 for k=60\n",
      "RMSE 207.80656713725242 for k=61\n",
      "RMSE 207.70561133778335 for k=62\n",
      "RMSE 207.7284558531969 for k=63\n",
      "RMSE 207.7122059488495 for k=64\n",
      "RMSE 207.7794740070468 for k=65\n",
      "RMSE 207.80826744967257 for k=66\n",
      "RMSE 207.66463729445783 for k=67\n",
      "RMSE 207.55521957294758 for k=68\n",
      "RMSE 207.5374062072577 for k=69\n",
      "RMSE 207.5191975349785 for k=70\n",
      "RMSE 207.45524075764638 for k=71\n",
      "RMSE 207.4393809396675 for k=72\n",
      "RMSE 207.42332581438498 for k=73\n",
      "RMSE 207.42525996092172 for k=74\n",
      "RMSE 207.39767784186506 for k=75\n",
      "RMSE 207.375154137648 for k=76\n",
      "RMSE 207.32854794517283 for k=77\n",
      "RMSE 207.3232661111991 for k=78\n",
      "RMSE 207.27743260839875 for k=79\n",
      "RMSE 207.21954794259815 for k=80\n",
      "RMSE 207.02466952102733 for k=81\n",
      "RMSE 206.98974433430445 for k=82\n",
      "RMSE 206.90232643925538 for k=83\n",
      "RMSE 206.88250105919815 for k=84\n",
      "RMSE 206.83275249129125 for k=85\n",
      "RMSE 206.8085174899458 for k=86\n",
      "RMSE 206.7524584221386 for k=87\n",
      "RMSE 206.67806136035625 for k=88\n",
      "RMSE 206.68061827488887 for k=89\n",
      "RMSE 206.6160750131393 for k=90\n",
      "RMSE 206.5689283628225 for k=91\n",
      "RMSE 206.6223190169389 for k=92\n",
      "RMSE 206.66750597468976 for k=93\n",
      "RMSE 206.65229938062708 for k=94\n",
      "RMSE 206.66577479395212 for k=95\n",
      "RMSE 206.69194338684056 for k=96\n",
      "RMSE 206.71216612181163 for k=97\n",
      "RMSE 206.71739752376874 for k=98\n",
      "RMSE 206.7623228012296 for k=99\n",
      "RMSE 206.69945770192086 for k=100\n",
      "RMSE 206.66493480428855 for k=101\n",
      "RMSE 206.64418666597257 for k=102\n",
      "RMSE 206.63875842217288 for k=103\n",
      "RMSE 206.6339968534336 for k=104\n",
      "RMSE 206.64036273986346 for k=105\n",
      "RMSE 206.63294005946724 for k=106\n",
      "RMSE 206.59347083855238 for k=107\n",
      "RMSE 206.6022230627547 for k=108\n",
      "RMSE 206.617616569905 for k=109\n",
      "RMSE 206.62487497349468 for k=110\n",
      "RMSE 206.61032619617222 for k=111\n",
      "RMSE 206.62641231982946 for k=112\n",
      "RMSE 206.6250258111631 for k=113\n",
      "RMSE 206.51111891953465 for k=114\n",
      "RMSE 206.4918575376894 for k=115\n",
      "RMSE 206.49498242869942 for k=116\n",
      "RMSE 206.46738577197294 for k=117\n",
      "RMSE 206.45296868858662 for k=118\n",
      "RMSE 206.46546809553888 for k=119\n",
      "RMSE 206.51461239200117 for k=120\n",
      "RMSE 206.52423246240042 for k=121\n",
      "RMSE 206.53639808408488 for k=122\n",
      "RMSE 206.54444565046774 for k=123\n",
      "RMSE 206.53056747053742 for k=124\n",
      "RMSE 206.52835944235878 for k=125\n",
      "RMSE 206.54256105274655 for k=126\n",
      "RMSE 206.546345315 for k=127\n",
      "RMSE 206.4521751348726 for k=128\n",
      "RMSE 206.47130765211375 for k=129\n",
      "RMSE 206.4777968602778 for k=130\n",
      "RMSE 206.48964000252852 for k=131\n",
      "RMSE 206.49489086863778 for k=132\n",
      "RMSE 206.44832765273554 for k=133\n",
      "RMSE 206.44072239578128 for k=134\n",
      "RMSE 206.39369149706576 for k=135\n",
      "RMSE 206.4193077486617 for k=136\n",
      "RMSE 206.44189693004233 for k=137\n",
      "RMSE 206.45306237452706 for k=138\n",
      "RMSE 206.4656220673414 for k=139\n",
      "RMSE 206.44054777401286 for k=140\n",
      "RMSE 206.40930321724056 for k=141\n",
      "RMSE 206.42355735784713 for k=142\n",
      "RMSE 206.40981792512426 for k=143\n",
      "RMSE 206.42489029379698 for k=144\n",
      "RMSE 206.42027890979912 for k=145\n",
      "RMSE 206.4296967458448 for k=146\n",
      "RMSE 206.4467396032036 for k=147\n",
      "RMSE 206.4520075507273 for k=148\n",
      "RMSE 206.4490902000797 for k=149\n",
      "RMSE 206.3911579294186 for k=150\n",
      "RMSE 206.39675306418303 for k=151\n",
      "RMSE 206.40947465769807 for k=152\n",
      "RMSE 206.4257851056742 for k=153\n",
      "RMSE 206.42265017663084 for k=154\n",
      "RMSE 206.43697185098566 for k=155\n",
      "RMSE 206.45229780348586 for k=156\n",
      "RMSE 206.46808810085676 for k=157\n",
      "RMSE 206.46130522619214 for k=158\n",
      "RMSE 206.46915174026296 for k=159\n",
      "RMSE 206.47443102830994 for k=160\n",
      "RMSE 206.46135628730892 for k=161\n",
      "RMSE 206.46621248150382 for k=162\n",
      "RMSE 206.47141397430485 for k=163\n",
      "RMSE 206.4703606905227 for k=164\n",
      "RMSE 206.4773548242682 for k=165\n",
      "RMSE 206.49521426013297 for k=166\n",
      "RMSE 206.49997353264894 for k=167\n",
      "RMSE 206.43188803602447 for k=168\n",
      "RMSE 206.4263417114018 for k=169\n",
      "RMSE 206.4100949938164 for k=170\n",
      "RMSE 206.41139257328956 for k=171\n",
      "RMSE 206.39740287578488 for k=172\n",
      "RMSE 206.3980612498491 for k=173\n",
      "RMSE 206.41118042657908 for k=174\n",
      "RMSE 206.40932726364838 for k=175\n",
      "RMSE 206.41947053964276 for k=176\n",
      "RMSE 206.40948612189194 for k=177\n",
      "RMSE 206.40980411663978 for k=178\n",
      "RMSE 206.39453927994307 for k=179\n",
      "RMSE 206.40757744976983 for k=180\n",
      "RMSE 206.42710300999406 for k=181\n",
      "RMSE 206.43960851780284 for k=182\n",
      "RMSE 206.42471955861888 for k=183\n",
      "RMSE 206.42916081270965 for k=184\n",
      "RMSE 206.42711089710704 for k=185\n",
      "RMSE 206.43707006293909 for k=186\n",
      "RMSE 206.4257420558215 for k=187\n",
      "RMSE 206.43311510914106 for k=188\n",
      "RMSE 206.43208850960036 for k=189\n",
      "RMSE 206.4403861203079 for k=190\n",
      "RMSE 206.41371640448526 for k=191\n",
      "RMSE 206.4254837580981 for k=192\n",
      "RMSE 206.41621081901778 for k=193\n",
      "RMSE 206.422704332209 for k=194\n",
      "RMSE 206.41413649574753 for k=195\n",
      "RMSE 206.41826517588973 for k=196\n",
      "RMSE 206.40782386055278 for k=197\n",
      "RMSE 206.35380169236737 for k=198\n",
      "RMSE 206.3693491472358 for k=199\n",
      "RMSE 206.3843209903908 for k=200\n"
     ]
    }
   ],
   "source": [
    "min_rmse = 0\n",
    "min_k  = 0\n",
    "for k in range(1, 201):\n",
    "    current_test = np.empty(test_data.__len__())\n",
    "    nearest =  all_neigbhors[:, :k]\n",
    "    \n",
    "    for enum in range(test_data.__len__()):\n",
    "        target = 0\n",
    "\n",
    "        for numb in range(nearest[enum].__len__()):\n",
    "            target += train_target[nearest[enum][numb]] / k\n",
    "        current_test[enum] = target\n",
    "        \n",
    "    cur_rmse = RMSE(test_target, current_test)\n",
    "    print(\"RMSE {} for k={}\".format(cur_rmse, k))\n",
    "    \n",
    "    if min_rmse == 0:\n",
    "        min_rmse = cur_rmse\n",
    "        min_k = k\n",
    "    else:\n",
    "        if cur_rmse < min_rmse:\n",
    "            min_rmse = cur_rmse\n",
    "            min_k = k"
   ]
  },
  {
   "cell_type": "code",
   "execution_count": 32,
   "metadata": {},
   "outputs": [
    {
     "name": "stdout",
     "output_type": "stream",
     "text": [
      "206.35380169236737 198\n"
     ]
    }
   ],
   "source": [
    "print(min_rmse, min_k)"
   ]
  },
  {
   "cell_type": "code",
   "execution_count": 33,
   "metadata": {},
   "outputs": [],
   "source": [
    "knn.changeCatMetric(flattened_overlap)"
   ]
  },
  {
   "cell_type": "code",
   "execution_count": 34,
   "metadata": {},
   "outputs": [
    {
     "name": "stdout",
     "output_type": "stream",
     "text": [
      "CPU times: user 4min 52s, sys: 1min 34s, total: 6min 27s\n",
      "Wall time: 6min 52s\n"
     ]
    }
   ],
   "source": [
    "%time all_flat_neighb = knn.kneighbors(test_data, return_distance=False)"
   ]
  },
  {
   "cell_type": "code",
   "execution_count": 35,
   "metadata": {},
   "outputs": [
    {
     "data": {
      "text/plain": [
       "array([[29585,  5487,  4123, ..., 32535, 20412,  5670],\n",
       "       [16561, 25264, 20850, ..., 26805,  9042, 32806],\n",
       "       [ 2886, 19677, 25149, ..., 10993,  7983, 13927],\n",
       "       ...,\n",
       "       [28281, 28854, 16690, ..., 17743,   822, 33986],\n",
       "       [10550, 32536, 14063, ..., 11793, 25345,  2607],\n",
       "       [28084,  9743, 10045, ..., 18321, 18355, 18429]])"
      ]
     },
     "execution_count": 35,
     "metadata": {},
     "output_type": "execute_result"
    }
   ],
   "source": [
    "all_flat_neighb"
   ]
  },
  {
   "cell_type": "code",
   "execution_count": 36,
   "metadata": {},
   "outputs": [
    {
     "name": "stdout",
     "output_type": "stream",
     "text": [
      "RMSE 320.27456297932014 for k=1\n",
      "RMSE 264.13426709520905 for k=2\n",
      "RMSE 236.18877290842886 for k=3\n",
      "RMSE 228.07017101275588 for k=4\n",
      "RMSE 221.5686490897544 for k=5\n",
      "RMSE 216.98552078595284 for k=6\n",
      "RMSE 214.54849495867649 for k=7\n",
      "RMSE 212.74298165354844 for k=8\n",
      "RMSE 212.05934674247433 for k=9\n",
      "RMSE 211.1608737000562 for k=10\n",
      "RMSE 210.74019651193342 for k=11\n",
      "RMSE 209.95915094345142 for k=12\n",
      "RMSE 208.999367192689 for k=13\n",
      "RMSE 209.1864440191204 for k=14\n",
      "RMSE 208.61689193497492 for k=15\n",
      "RMSE 208.14889896530931 for k=16\n",
      "RMSE 207.84285390753323 for k=17\n",
      "RMSE 207.41020682940055 for k=18\n",
      "RMSE 207.26158572794438 for k=19\n",
      "RMSE 207.04948756428735 for k=20\n",
      "RMSE 206.89552598906664 for k=21\n",
      "RMSE 207.07680434189012 for k=22\n",
      "RMSE 207.17926234807197 for k=23\n",
      "RMSE 207.1368129214981 for k=24\n",
      "RMSE 207.11789555453828 for k=25\n",
      "RMSE 206.84809985870984 for k=26\n",
      "RMSE 206.92466943282247 for k=27\n",
      "RMSE 206.9066875689806 for k=28\n",
      "RMSE 206.939505454586 for k=29\n",
      "RMSE 206.90675015007017 for k=30\n",
      "RMSE 207.01565633493658 for k=31\n",
      "RMSE 207.0031201505376 for k=32\n",
      "RMSE 206.89001810834708 for k=33\n",
      "RMSE 206.84575337438918 for k=34\n",
      "RMSE 206.59221397681276 for k=35\n",
      "RMSE 206.55734553318314 for k=36\n",
      "RMSE 206.37071791052168 for k=37\n",
      "RMSE 206.37470293963887 for k=38\n",
      "RMSE 206.28865969872095 for k=39\n",
      "RMSE 206.1868714142927 for k=40\n",
      "RMSE 206.09575020169632 for k=41\n",
      "RMSE 206.0540807695185 for k=42\n",
      "RMSE 206.00047039195417 for k=43\n",
      "RMSE 206.12823956033813 for k=44\n",
      "RMSE 206.1761341676191 for k=45\n",
      "RMSE 206.20986683430235 for k=46\n",
      "RMSE 206.21705058235375 for k=47\n",
      "RMSE 206.22382086582562 for k=48\n",
      "RMSE 206.09947641682453 for k=49\n",
      "RMSE 206.17915828038946 for k=50\n",
      "RMSE 205.851046913815 for k=51\n",
      "RMSE 205.91054664693135 for k=52\n",
      "RMSE 205.9353041499258 for k=53\n",
      "RMSE 205.90063387302712 for k=54\n",
      "RMSE 205.6696279303202 for k=55\n",
      "RMSE 205.65533430796745 for k=56\n",
      "RMSE 205.66337317729963 for k=57\n",
      "RMSE 205.71713454803702 for k=58\n",
      "RMSE 205.71198977233817 for k=59\n",
      "RMSE 205.67914904956783 for k=60\n",
      "RMSE 205.65799235854513 for k=61\n",
      "RMSE 205.6715896257347 for k=62\n",
      "RMSE 205.66677080360517 for k=63\n",
      "RMSE 205.66781940347232 for k=64\n",
      "RMSE 205.7172860904158 for k=65\n",
      "RMSE 205.72091782400048 for k=66\n",
      "RMSE 205.65685970267214 for k=67\n",
      "RMSE 205.6427900756762 for k=68\n",
      "RMSE 205.57548619291367 for k=69\n",
      "RMSE 205.61012799640167 for k=70\n",
      "RMSE 205.57032521370988 for k=71\n",
      "RMSE 205.57508155813287 for k=72\n",
      "RMSE 205.65797726380632 for k=73\n",
      "RMSE 205.60827470070024 for k=74\n",
      "RMSE 205.56006046039664 for k=75\n",
      "RMSE 205.57803737020282 for k=76\n",
      "RMSE 205.54136756130913 for k=77\n",
      "RMSE 205.5359120568901 for k=78\n",
      "RMSE 205.54580745579068 for k=79\n",
      "RMSE 205.5686637321183 for k=80\n",
      "RMSE 205.59434115974588 for k=81\n",
      "RMSE 205.61791910549613 for k=82\n",
      "RMSE 205.61933259467787 for k=83\n",
      "RMSE 205.62579111652937 for k=84\n",
      "RMSE 205.62688062894685 for k=85\n",
      "RMSE 205.64693165975277 for k=86\n",
      "RMSE 205.6491520506833 for k=87\n",
      "RMSE 205.59258657283365 for k=88\n",
      "RMSE 205.62306073530328 for k=89\n",
      "RMSE 205.62374401952692 for k=90\n",
      "RMSE 205.57568241404772 for k=91\n",
      "RMSE 205.57803323172422 for k=92\n",
      "RMSE 205.5706612644476 for k=93\n",
      "RMSE 205.58962836814146 for k=94\n",
      "RMSE 205.61071858863974 for k=95\n",
      "RMSE 205.6221352919212 for k=96\n",
      "RMSE 205.63977124121723 for k=97\n",
      "RMSE 205.62525667897012 for k=98\n",
      "RMSE 205.64748919017455 for k=99\n",
      "RMSE 205.6688816235954 for k=100\n",
      "RMSE 205.6677485089434 for k=101\n",
      "RMSE 205.6797312405116 for k=102\n",
      "RMSE 205.71928555231645 for k=103\n",
      "RMSE 205.65206585572977 for k=104\n",
      "RMSE 205.662772146337 for k=105\n",
      "RMSE 205.6382026606748 for k=106\n",
      "RMSE 205.65200066773454 for k=107\n",
      "RMSE 205.63696717446777 for k=108\n",
      "RMSE 205.6560479597818 for k=109\n",
      "RMSE 205.68866041681898 for k=110\n",
      "RMSE 205.67492748628726 for k=111\n",
      "RMSE 205.64135093920515 for k=112\n",
      "RMSE 205.67826153898378 for k=113\n",
      "RMSE 205.67857329741494 for k=114\n",
      "RMSE 205.67830799799103 for k=115\n",
      "RMSE 205.72242023126694 for k=116\n",
      "RMSE 205.71233501878416 for k=117\n",
      "RMSE 205.70459144257785 for k=118\n",
      "RMSE 205.7090259191144 for k=119\n",
      "RMSE 205.7352248257594 for k=120\n",
      "RMSE 205.73893918253808 for k=121\n",
      "RMSE 205.76750015413378 for k=122\n",
      "RMSE 205.78119147791264 for k=123\n",
      "RMSE 205.79530931237784 for k=124\n",
      "RMSE 205.82055635043076 for k=125\n",
      "RMSE 205.81501974628804 for k=126\n",
      "RMSE 205.79766651760104 for k=127\n",
      "RMSE 205.82377635190474 for k=128\n",
      "RMSE 205.8483106991693 for k=129\n",
      "RMSE 205.84983940320134 for k=130\n",
      "RMSE 205.88531889739923 for k=131\n",
      "RMSE 205.89325390272674 for k=132\n",
      "RMSE 205.9140002153156 for k=133\n",
      "RMSE 205.86119691552844 for k=134\n",
      "RMSE 205.8541317133063 for k=135\n",
      "RMSE 205.88719087562356 for k=136\n",
      "RMSE 205.8754274226807 for k=137\n",
      "RMSE 205.90281358836285 for k=138\n",
      "RMSE 205.87062221875814 for k=139\n",
      "RMSE 205.84242751458493 for k=140\n",
      "RMSE 205.85785252133036 for k=141\n",
      "RMSE 205.872154987656 for k=142\n",
      "RMSE 205.8852749683252 for k=143\n",
      "RMSE 205.90626548359702 for k=144\n",
      "RMSE 205.89553024768307 for k=145\n",
      "RMSE 205.90671380911982 for k=146\n",
      "RMSE 205.9243795983662 for k=147\n",
      "RMSE 205.9583014018532 for k=148\n",
      "RMSE 205.98017092448612 for k=149\n",
      "RMSE 205.98478761607262 for k=150\n",
      "RMSE 206.00914291179046 for k=151\n",
      "RMSE 205.99214056173534 for k=152\n",
      "RMSE 205.94405663838228 for k=153\n",
      "RMSE 205.9767515683411 for k=154\n",
      "RMSE 205.9906765470664 for k=155\n",
      "RMSE 205.97743022724524 for k=156\n",
      "RMSE 205.9980818257163 for k=157\n",
      "RMSE 205.9999946198504 for k=158\n",
      "RMSE 206.00744495811 for k=159\n",
      "RMSE 206.0280175195067 for k=160\n",
      "RMSE 206.04678436028058 for k=161\n",
      "RMSE 206.05103662250048 for k=162\n",
      "RMSE 206.0337044930662 for k=163\n",
      "RMSE 206.04105972669583 for k=164\n",
      "RMSE 206.06839723599919 for k=165\n",
      "RMSE 206.0957466320591 for k=166\n",
      "RMSE 206.12926574656103 for k=167\n",
      "RMSE 206.15207610589462 for k=168\n",
      "RMSE 206.1688747185527 for k=169\n",
      "RMSE 206.15824529990013 for k=170\n",
      "RMSE 206.13519694287638 for k=171\n",
      "RMSE 206.0863440724789 for k=172\n",
      "RMSE 206.09562311453632 for k=173\n",
      "RMSE 206.11651966373577 for k=174\n",
      "RMSE 206.14146902567725 for k=175\n",
      "RMSE 206.1632840799168 for k=176\n",
      "RMSE 206.17093047784945 for k=177\n",
      "RMSE 206.19282315621726 for k=178\n",
      "RMSE 206.21792121081796 for k=179\n",
      "RMSE 206.2262857034416 for k=180\n",
      "RMSE 206.253425701958 for k=181\n",
      "RMSE 206.27060461912254 for k=182\n",
      "RMSE 206.2798172619711 for k=183\n",
      "RMSE 206.27993819984388 for k=184\n",
      "RMSE 206.25790842947455 for k=185\n",
      "RMSE 206.27405406358997 for k=186\n",
      "RMSE 206.2871734238382 for k=187\n",
      "RMSE 206.20992196381536 for k=188\n",
      "RMSE 206.22913511660613 for k=189\n",
      "RMSE 206.23211945248 for k=190\n",
      "RMSE 206.18263636891947 for k=191\n",
      "RMSE 206.19403138741484 for k=192\n",
      "RMSE 206.19108235859522 for k=193\n",
      "RMSE 206.19576033423846 for k=194\n",
      "RMSE 206.21173601756152 for k=195\n",
      "RMSE 206.2331670102556 for k=196\n",
      "RMSE 206.1992692844011 for k=197\n",
      "RMSE 206.17896209485443 for k=198\n",
      "RMSE 206.18039718587994 for k=199\n",
      "RMSE 206.17962063448186 for k=200\n"
     ]
    }
   ],
   "source": [
    "min_f_rmse = 0\n",
    "min_f_k  = 0\n",
    "for k in range(1, 201):\n",
    "    current_test = np.empty(test_data.__len__())\n",
    "    nearest =  all_flat_neighb[:, :k]\n",
    "    \n",
    "    for enum in range(test_data.__len__()):\n",
    "        target = 0\n",
    "\n",
    "        for numb in range(nearest[enum].__len__()):\n",
    "            target += train_target[nearest[enum][numb]] / k\n",
    "        current_test[enum] = target\n",
    "        \n",
    "    cur_rmse = RMSE(test_target, current_test)\n",
    "    print(\"RMSE {} for k={}\".format(cur_rmse, k))\n",
    "    \n",
    "    if min_f_rmse == 0:\n",
    "        min_f_rmse = cur_rmse\n",
    "        min_f_k = k\n",
    "    else:\n",
    "        if cur_rmse < min_f_rmse:\n",
    "            min_f_rmse = cur_rmse\n",
    "            min_f_k = k"
   ]
  },
  {
   "cell_type": "code",
   "execution_count": 37,
   "metadata": {},
   "outputs": [
    {
     "name": "stdout",
     "output_type": "stream",
     "text": [
      "205.5359120568901 78\n"
     ]
    }
   ],
   "source": [
    "print(min_f_rmse, min_f_k)"
   ]
  },
  {
   "cell_type": "code",
   "execution_count": 38,
   "metadata": {},
   "outputs": [],
   "source": [
    "knn.changeCatMetric(log_overlap)"
   ]
  },
  {
   "cell_type": "code",
   "execution_count": 39,
   "metadata": {},
   "outputs": [
    {
     "name": "stdout",
     "output_type": "stream",
     "text": [
      "CPU times: user 4min 31s, sys: 2min 22s, total: 6min 53s\n",
      "Wall time: 8min 46s\n"
     ]
    }
   ],
   "source": [
    "%time all_log_neighb = knn.kneighbors(test_data, return_distance=False)"
   ]
  },
  {
   "cell_type": "code",
   "execution_count": 40,
   "metadata": {},
   "outputs": [
    {
     "data": {
      "text/plain": [
       "array([[ 1192, 11510, 29585, ..., 18882, 32535, 20998],\n",
       "       [26735, 13564, 23696, ...,  5835, 17015, 29993],\n",
       "       [15481,  1144, 30479, ..., 17938, 24623, 28923],\n",
       "       ...,\n",
       "       [23187, 29618, 15429, ..., 17533,  1035,   174],\n",
       "       [15617, 31233, 28498, ..., 28863, 29380, 23580],\n",
       "       [26722,    53, 19643, ..., 13427, 26161, 12637]])"
      ]
     },
     "execution_count": 40,
     "metadata": {},
     "output_type": "execute_result"
    }
   ],
   "source": [
    "all_log_neighb"
   ]
  },
  {
   "cell_type": "code",
   "execution_count": 41,
   "metadata": {},
   "outputs": [
    {
     "name": "stdout",
     "output_type": "stream",
     "text": [
      "RMSE 509.36166263356426 for k=1\n",
      "RMSE 439.03817354156047 for k=2\n",
      "RMSE 372.3629045887022 for k=3\n",
      "RMSE 333.343259844925 for k=4\n",
      "RMSE 301.1325623458601 for k=5\n",
      "RMSE 282.87856675392857 for k=6\n",
      "RMSE 268.29280955026314 for k=7\n",
      "RMSE 257.0260067682028 for k=8\n",
      "RMSE 249.59494591220744 for k=9\n",
      "RMSE 243.12859726370527 for k=10\n",
      "RMSE 237.77974683604387 for k=11\n",
      "RMSE 234.14780971828375 for k=12\n",
      "RMSE 230.3492231250983 for k=13\n",
      "RMSE 227.97717534840498 for k=14\n",
      "RMSE 225.37670006156318 for k=15\n",
      "RMSE 223.37777765541458 for k=16\n",
      "RMSE 221.91444870931008 for k=17\n",
      "RMSE 220.4428214636473 for k=18\n",
      "RMSE 219.05466684561813 for k=19\n",
      "RMSE 217.99849183904874 for k=20\n",
      "RMSE 216.97128622533734 for k=21\n",
      "RMSE 216.20797645817112 for k=22\n",
      "RMSE 215.40698278235743 for k=23\n",
      "RMSE 214.58094220135408 for k=24\n",
      "RMSE 213.99851679607414 for k=25\n",
      "RMSE 213.51576708946934 for k=26\n",
      "RMSE 213.05412840780414 for k=27\n",
      "RMSE 212.54637777456196 for k=28\n",
      "RMSE 212.24136893030712 for k=29\n",
      "RMSE 212.058979981935 for k=30\n",
      "RMSE 211.71513176256374 for k=31\n",
      "RMSE 211.36120045388355 for k=32\n",
      "RMSE 211.0397318737402 for k=33\n",
      "RMSE 210.8724382264058 for k=34\n",
      "RMSE 210.69238745515528 for k=35\n",
      "RMSE 210.45221108380102 for k=36\n",
      "RMSE 210.395129520296 for k=37\n",
      "RMSE 210.14577855380236 for k=38\n",
      "RMSE 209.97541576831404 for k=39\n",
      "RMSE 209.76229551204176 for k=40\n",
      "RMSE 209.64455946807163 for k=41\n",
      "RMSE 209.44658529011818 for k=42\n",
      "RMSE 209.3009126971921 for k=43\n",
      "RMSE 209.2574112002158 for k=44\n",
      "RMSE 209.14585850095744 for k=45\n",
      "RMSE 209.10999377322676 for k=46\n",
      "RMSE 209.0400818885107 for k=47\n",
      "RMSE 208.9353833737685 for k=48\n",
      "RMSE 208.87841758780672 for k=49\n",
      "RMSE 208.8565248875019 for k=50\n",
      "RMSE 208.822677646261 for k=51\n",
      "RMSE 208.74748271017856 for k=52\n",
      "RMSE 208.75164820077646 for k=53\n",
      "RMSE 208.7122474786842 for k=54\n",
      "RMSE 208.73204338410272 for k=55\n",
      "RMSE 208.6568809036483 for k=56\n",
      "RMSE 208.63237949968232 for k=57\n",
      "RMSE 208.57780755468173 for k=58\n",
      "RMSE 208.52503221974223 for k=59\n",
      "RMSE 208.45046792531556 for k=60\n",
      "RMSE 208.3904889057306 for k=61\n",
      "RMSE 208.0572285794344 for k=62\n",
      "RMSE 208.06096695944046 for k=63\n",
      "RMSE 207.99603655785242 for k=64\n",
      "RMSE 207.93666811448418 for k=65\n",
      "RMSE 207.90093795600345 for k=66\n",
      "RMSE 207.85457260526323 for k=67\n",
      "RMSE 207.88109024585802 for k=68\n",
      "RMSE 207.8844814713248 for k=69\n",
      "RMSE 207.88626124284647 for k=70\n",
      "RMSE 207.91066472877554 for k=71\n",
      "RMSE 207.92763960540648 for k=72\n",
      "RMSE 207.9089466942848 for k=73\n",
      "RMSE 207.8741512871083 for k=74\n",
      "RMSE 207.87526086671636 for k=75\n",
      "RMSE 207.84470195253647 for k=76\n",
      "RMSE 207.574680215216 for k=77\n",
      "RMSE 207.5622095513598 for k=78\n",
      "RMSE 207.56652207113427 for k=79\n",
      "RMSE 207.45764478574634 for k=80\n",
      "RMSE 207.47438585812745 for k=81\n",
      "RMSE 207.46499294478573 for k=82\n",
      "RMSE 207.40897124128878 for k=83\n",
      "RMSE 207.40799668433107 for k=84\n",
      "RMSE 207.39543690964615 for k=85\n",
      "RMSE 207.423305271028 for k=86\n",
      "RMSE 207.43010600210818 for k=87\n",
      "RMSE 207.43362669388517 for k=88\n",
      "RMSE 207.30326617839114 for k=89\n",
      "RMSE 207.29076569271464 for k=90\n",
      "RMSE 207.26284030663905 for k=91\n",
      "RMSE 207.26390539864425 for k=92\n",
      "RMSE 207.28143106887754 for k=93\n",
      "RMSE 207.25370737710526 for k=94\n",
      "RMSE 207.222051432252 for k=95\n",
      "RMSE 207.06376615491448 for k=96\n",
      "RMSE 207.0528136568887 for k=97\n",
      "RMSE 207.01892946330884 for k=98\n",
      "RMSE 207.00653076307967 for k=99\n",
      "RMSE 207.02789387049432 for k=100\n",
      "RMSE 207.0357931647952 for k=101\n",
      "RMSE 207.05060160587828 for k=102\n",
      "RMSE 207.02651527730407 for k=103\n",
      "RMSE 207.03158691336372 for k=104\n",
      "RMSE 207.04833297895846 for k=105\n",
      "RMSE 207.05695078039668 for k=106\n",
      "RMSE 207.0741910773656 for k=107\n",
      "RMSE 206.98657381901478 for k=108\n",
      "RMSE 206.97128996373849 for k=109\n",
      "RMSE 206.9323960472622 for k=110\n",
      "RMSE 206.90244351353283 for k=111\n",
      "RMSE 206.87960009253564 for k=112\n",
      "RMSE 206.82008624820912 for k=113\n",
      "RMSE 206.86564587924346 for k=114\n",
      "RMSE 206.8616197997614 for k=115\n",
      "RMSE 206.84971544681335 for k=116\n",
      "RMSE 206.86616512481152 for k=117\n",
      "RMSE 206.8865820903185 for k=118\n",
      "RMSE 206.84865044280082 for k=119\n",
      "RMSE 206.87869226963005 for k=120\n",
      "RMSE 206.88353168989687 for k=121\n",
      "RMSE 206.88292988133614 for k=122\n",
      "RMSE 206.8411861514749 for k=123\n",
      "RMSE 206.85492307071397 for k=124\n",
      "RMSE 206.83325438990553 for k=125\n",
      "RMSE 206.83246689586318 for k=126\n",
      "RMSE 206.84284925631243 for k=127\n",
      "RMSE 206.85059731400293 for k=128\n",
      "RMSE 206.85142471645514 for k=129\n",
      "RMSE 206.86766324671856 for k=130\n",
      "RMSE 206.86496462814918 for k=131\n",
      "RMSE 206.864475134206 for k=132\n",
      "RMSE 206.8694242640394 for k=133\n",
      "RMSE 206.83425961519472 for k=134\n",
      "RMSE 206.8205665340601 for k=135\n",
      "RMSE 206.82980187132085 for k=136\n",
      "RMSE 206.76718402178238 for k=137\n",
      "RMSE 206.77566644587444 for k=138\n",
      "RMSE 206.7862033345317 for k=139\n",
      "RMSE 206.7744052263996 for k=140\n",
      "RMSE 206.77385249492306 for k=141\n",
      "RMSE 206.7643814189521 for k=142\n",
      "RMSE 206.75763318969308 for k=143\n",
      "RMSE 206.7512377840996 for k=144\n",
      "RMSE 206.734926254248 for k=145\n",
      "RMSE 206.73605922195526 for k=146\n",
      "RMSE 206.7504701558798 for k=147\n",
      "RMSE 206.74364054815618 for k=148\n",
      "RMSE 206.7127423971356 for k=149\n",
      "RMSE 206.67209080996216 for k=150\n",
      "RMSE 206.66696786672654 for k=151\n",
      "RMSE 206.68065960209012 for k=152\n",
      "RMSE 206.68650199054377 for k=153\n",
      "RMSE 206.70611098180416 for k=154\n",
      "RMSE 206.7002100460545 for k=155\n",
      "RMSE 206.6795939753129 for k=156\n",
      "RMSE 206.67216594006422 for k=157\n",
      "RMSE 206.6221103324185 for k=158\n",
      "RMSE 206.57396615247836 for k=159\n",
      "RMSE 206.58906449471252 for k=160\n",
      "RMSE 206.5845078287495 for k=161\n",
      "RMSE 206.60358635362525 for k=162\n",
      "RMSE 206.56431421391537 for k=163\n",
      "RMSE 206.5357436850167 for k=164\n",
      "RMSE 206.5647153860014 for k=165\n",
      "RMSE 206.57778759387702 for k=166\n",
      "RMSE 206.56246694522656 for k=167\n",
      "RMSE 206.57484060194625 for k=168\n",
      "RMSE 206.581589154551 for k=169\n",
      "RMSE 206.58826105350414 for k=170\n",
      "RMSE 206.59244678502165 for k=171\n",
      "RMSE 206.59385735820842 for k=172\n",
      "RMSE 206.59841208064262 for k=173\n",
      "RMSE 206.604714914357 for k=174\n",
      "RMSE 206.59419890812657 for k=175\n",
      "RMSE 206.60648511045088 for k=176\n",
      "RMSE 206.61365845310564 for k=177\n",
      "RMSE 206.6232242967873 for k=178\n",
      "RMSE 206.62664848614463 for k=179\n",
      "RMSE 206.6375813580404 for k=180\n",
      "RMSE 206.63255330311176 for k=181\n",
      "RMSE 206.65244856964514 for k=182\n",
      "RMSE 206.66363908848658 for k=183\n",
      "RMSE 206.6577758716345 for k=184\n",
      "RMSE 206.6593615715492 for k=185\n",
      "RMSE 206.6756388229068 for k=186\n",
      "RMSE 206.66715481808296 for k=187\n",
      "RMSE 206.66164598575858 for k=188\n",
      "RMSE 206.65049691235015 for k=189\n",
      "RMSE 206.6593896283626 for k=190\n",
      "RMSE 206.66036278023154 for k=191\n",
      "RMSE 206.66298563478014 for k=192\n",
      "RMSE 206.6598986862634 for k=193\n",
      "RMSE 206.65328608640834 for k=194\n",
      "RMSE 206.6506619862635 for k=195\n",
      "RMSE 206.6445384959995 for k=196\n",
      "RMSE 206.63257652039448 for k=197\n",
      "RMSE 206.65378351108163 for k=198\n",
      "RMSE 206.66661079202922 for k=199\n",
      "RMSE 206.68396654981424 for k=200\n"
     ]
    }
   ],
   "source": [
    "min_l_rmse = 0\n",
    "min_l_k  = 0\n",
    "for k in range(1, 201):\n",
    "    current_test = np.empty(test_data.__len__())\n",
    "    nearest =  all_log_neighb[:, :k]\n",
    "    \n",
    "    for enum in range(test_data.__len__()):\n",
    "        target = 0\n",
    "\n",
    "        for numb in range(nearest[enum].__len__()):\n",
    "            target += train_target[nearest[enum][numb]] / k\n",
    "        current_test[enum] = target\n",
    "        \n",
    "    cur_rmse = RMSE(test_target, current_test)\n",
    "    print(\"RMSE {} for k={}\".format(cur_rmse, k))\n",
    "    \n",
    "    if min_l_rmse == 0:\n",
    "        min_l_rmse = cur_rmse\n",
    "        min_l_k = k\n",
    "    else:\n",
    "        if cur_rmse < min_l_rmse:\n",
    "            min_l_rmse = cur_rmse\n",
    "            min_l_k = k"
   ]
  },
  {
   "cell_type": "code",
   "execution_count": 42,
   "metadata": {},
   "outputs": [
    {
     "name": "stdout",
     "output_type": "stream",
     "text": [
      "206.5357436850167 164\n"
     ]
    }
   ],
   "source": [
    "print(min_l_rmse, min_l_k)"
   ]
  },
  {
   "cell_type": "markdown",
   "metadata": {},
   "source": [
    "## RMSE для разных метрик на k = 10:\n",
    "* RMSE overlap:  218.080625930482\n",
    "* RMSE flattened_overlap:  211.1608737000562\n",
    "* RMSE weightened flattened_overlap:  210.4698028391511\n",
    "* RMSE log_overlap:  243.12859726370527\n",
    "\n",
    "## Было проверено на k от 1 до 200\n",
    "* overlap: best on k = 198, RMSE = 206.354\n",
    "* flattened_overlap: best on k = 78, RMSE = 205.536\n",
    "* log_overlap: best on k = 164, RMSE = 206.536"
   ]
  },
  {
   "cell_type": "markdown",
   "metadata": {},
   "source": [
    "<b>2.4 (2.5 балла)</b> Отойдем ненадолго от задачи регрессии и перейдём к задаче классификации: будем определять, являеться ли квартира дорогой $(target = 1)$ или дешевой $(target = 0)$. Будем считать дорогими квариры, цена которых выше среднего."
   ]
  },
  {
   "cell_type": "code",
   "execution_count": 296,
   "metadata": {},
   "outputs": [],
   "source": [
    "data['target'] = (data.price > data.price.mean()).astype(int)"
   ]
  },
  {
   "cell_type": "markdown",
   "metadata": {},
   "source": [
    "Реализуйте счетчики, которые заменят категориальные признаки на вещественные.\n",
    "\n",
    "А именно, для каждого категориального признака $f_j(x)$ необходимо сделать следующее:\n",
    "1. Число `counts` объектов в обучающей выборке с таким же значением признака.\n",
    "\\begin{align}\n",
    "counts_j(c) = \\sum_{i=1}^l [f_j(x_i) = c]\n",
    "\\end{align}\n",
    "2. Число `successes` объектов первого класса ($y = 1$) в обучающей выборке с таким же значением признака.\n",
    "\\begin{align}\n",
    "successes_j(c) = \\sum_{i=1}^l[f_j(x_i) = c][y_i = +1].\n",
    "\\end{align}\n",
    "3. Сглаженное отношение двух предыдущих величин:\n",
    "\\begin{align}\n",
    "p_j(c) = \\frac{successes_j(c) + a}{counts_j(c) + b},\n",
    "\\end{align}\n",
    "\n",
    "где $a$ и $b$ - априорные счетчики (например, a = 1, b = 2)."
   ]
  },
  {
   "cell_type": "code",
   "execution_count": 44,
   "metadata": {},
   "outputs": [],
   "source": [
    "def counters(x):\n",
    "    uniq, counts = np.unique(x, return_counts=True)\n",
    "    \n",
    "    result = np.empty(x.shape)\n",
    "    \n",
    "    for enum, item in enumerate(uniq):\n",
    "        positions = np.argwhere(x == item)\n",
    "        result[positions] = counts[enum]\n",
    "    \n",
    "    return result\n",
    "\n",
    "def success_count(x, y):\n",
    "    # x - cat value\n",
    "    # y - target\n",
    "    sub = x + y.astype(str)\n",
    "    uniq, counts = np.unique(sub, return_counts=True)\n",
    "    \n",
    "    result = np.zeros(x.shape)\n",
    "    \n",
    "    for enum, item in enumerate(uniq):\n",
    "        if item[-1] == '0':\n",
    "            continue\n",
    "        \n",
    "        positions = np.argwhere(sub == item) \n",
    "        result[positions] = counts[enum]\n",
    "        \n",
    "        pos_neg = np.argwhere(sub == (item[:-1] + '0'))\n",
    "        result[pos_neg] = counts[enum]\n",
    "        \n",
    "    return result\n",
    "\n",
    "def comparison(x, y, a, b):\n",
    "    count = counters(x)\n",
    "    success = success_count(x, y)\n",
    "    \n",
    "    return (success + a) / (count + b)"
   ]
  },
  {
   "cell_type": "markdown",
   "metadata": {},
   "source": [
    "Поскольку признаки, содержащие информацию о целевой переменной, могут привести к переобучению, может оказаться полезным сделать *фолдинг*: разбить обучающую выборку на $n$ частей, и для $i$-й части считать `counts` и `successes` по всем остальным частям. Для тестовой выборки используются счетчики, посчитанный по всей обучающей выборке. Реализуйте и такой вариант. Достаточно взять $n = 3$."
   ]
  },
  {
   "cell_type": "code",
   "execution_count": 45,
   "metadata": {},
   "outputs": [],
   "source": [
    "def kfold(n, n_folds):\n",
    "\n",
    "    index_list = np.arange(n)\n",
    "\n",
    "    result_list = []\n",
    "    part = 0\n",
    "    each_len = int(n / n_folds)\n",
    "\n",
    "    while part < n_folds - 1:\n",
    "        test_subset = np.array(index_list[part * each_len: (part + 1) * each_len])\n",
    "        train_subset = np.array([x for x in index_list if x not in test_subset])\n",
    "        result_list.append((train_subset, test_subset))\n",
    "        part += 1\n",
    "\n",
    "    test_subset = np.array(index_list[part * each_len:])\n",
    "    train_subset = np.array([x for x in index_list if x not in test_subset])\n",
    "\n",
    "    result_list.append((train_subset, test_subset))\n",
    "\n",
    "    return result_list\n",
    "\n",
    "def fold_counters(x):\n",
    "    \"\"\"\n",
    "    params:\n",
    "        x: value on categorical feature for N objects\n",
    "    returns: vector of length N\n",
    "    \"\"\"\n",
    "    \n",
    "    cv = kfold(x.__len__(), 5)\n",
    "    \n",
    "    result = np.empty(x.__len__())\n",
    "    \n",
    "    for train_labels, test_labels in cv:\n",
    "        count = counters(x[train_labels])\n",
    "        \n",
    "        extra = np.empty(test_labels.__len__())\n",
    "        \n",
    "        for enum, item in enumerate(x[test_labels]):\n",
    "            pos = np.where(x[train_labels] == item)[0]\n",
    "            if pos.__len__() == 0:\n",
    "                extra[enum] = 0\n",
    "            else:\n",
    "                extra[enum] = count[pos[0]]\n",
    "        \n",
    "        result[test_labels] = extra\n",
    "    \n",
    "    return result\n",
    "\n",
    "def fold_success_count(x, y):\n",
    "    \n",
    "    cv = kfold(x.__len__(), 5)\n",
    "    \n",
    "    result = np.empty(x.__len__())\n",
    "        \n",
    "    for train_labels, test_labels in cv:\n",
    "        \n",
    "        success = success_count(x[train_labels], y[train_labels])\n",
    "        \n",
    "        extra = np.empty(test_labels.__len__())\n",
    "        \n",
    "        for enum in range(test_labels.__len__()):\n",
    "            cur_val = x[test_labels][enum]\n",
    "            pos = np.where(x[train_labels] == cur_val)[0]\n",
    "            \n",
    "            if pos.__len__() == 0:\n",
    "                extra[enum] = 0\n",
    "            else:\n",
    "                extra[enum] = success[pos[0]]\n",
    "                \n",
    "        result[test_labels] = extra\n",
    "        \n",
    "    return result\n",
    "\n",
    "def fold_combine(x, y, a, b):\n",
    "    count = fold_counters(x)\n",
    "    success = fold_success_count(x, y)\n",
    "    return (success + a) / (count + b)"
   ]
  },
  {
   "cell_type": "markdown",
   "metadata": {},
   "source": [
    "Посчитайте на тесте AUC-ROC метода $k$ ближайших соседей с евклидовой метрикой для выборки, где категориальные признаки заменены на счетчики. Сравните по AUC-ROC два варианта формирования выборки — с фолдингом и без. Не забудьте подобрать наилучшее число соседей $k$."
   ]
  },
  {
   "cell_type": "code",
   "execution_count": 297,
   "metadata": {},
   "outputs": [],
   "source": [
    "from sklearn.metrics import roc_auc_score"
   ]
  },
  {
   "cell_type": "code",
   "execution_count": 298,
   "metadata": {},
   "outputs": [],
   "source": [
    "def changeCols(df, cols, folds = False):\n",
    "    \n",
    "    if folds:\n",
    "        desired_func = fold_combine\n",
    "    else:\n",
    "        desired_func = comparison\n",
    "        \n",
    "    for item in cols:\n",
    "        df[item + 'new'] = desired_func(np.array(df[item]), np.array(df['target']), 0, 0)\n",
    "        \n",
    "    return df\n",
    "\n",
    "def transformAccordingTo(train_df, test_df, cols, folds=False):\n",
    "    # окей... нужно трансформировать столбцы test так же, как столбцы train\n",
    "    train_df = changeCols(train_df, cols, folds)\n",
    "    for item in cols:\n",
    "        \n",
    "        replacement = np.empty(test_df.__len__())\n",
    "        target_col = np.array(train_df[item])\n",
    "        target_replacement = np.array(train_df[item+'new'])\n",
    "        \n",
    "        for enum, value in enumerate(test_df[item]):\n",
    "            \n",
    "            pos = np.argwhere(target_col == value).T[0]\n",
    "            if pos.__len__() == 0:\n",
    "                replacement[enum] = 0\n",
    "            else:\n",
    "                replacement[enum] = target_replacement[pos[0]]\n",
    "                \n",
    "        test_df[item] = replacement\n",
    "        train_df[item] = train_df[item + 'new']\n",
    "        train_df.drop(columns={item + 'new'}, inplace=True)"
   ]
  },
  {
   "cell_type": "code",
   "execution_count": 307,
   "metadata": {},
   "outputs": [],
   "source": [
    "train_data, test_data, train_target, test_target = train_test_split(pd.DataFrame.copy(data),\n",
    "                                                                    np.array(pd.DataFrame.copy(data['target'])),\n",
    "                                                                    test_size=0.3, random_state=241)"
   ]
  },
  {
   "cell_type": "code",
   "execution_count": 308,
   "metadata": {},
   "outputs": [],
   "source": [
    "from sklearn.neighbors import KNeighborsClassifier\n",
    "knn_cos = KNeighborsClassifier(n_neighbors=10, metric='cosine', algorithm='brute', weights='distance')\n",
    "knn_euc = KNeighborsClassifier(n_neighbors=10, metric='euclidean', algorithm='brute', weights='distance')"
   ]
  },
  {
   "cell_type": "code",
   "execution_count": 309,
   "metadata": {},
   "outputs": [],
   "source": [
    "transformAccordingTo(train_data, test_data, ['neighbourhood_group', 'neighbourhood', 'room_type', 'last_review'])"
   ]
  },
  {
   "cell_type": "code",
   "execution_count": 310,
   "metadata": {},
   "outputs": [],
   "source": [
    "train_data.drop(columns={'id', 'host_id','target', 'price', 'name', 'host_name'}, inplace=True)\n",
    "test_data.drop(columns={'id', 'host_id', 'target', 'price', 'name', 'host_name'}, inplace=True)"
   ]
  },
  {
   "cell_type": "code",
   "execution_count": 311,
   "metadata": {},
   "outputs": [],
   "source": [
    "train_data = (train_data - train_data.mean()) / train_data.std()\n",
    "test_data = (test_data - test_data.mean()) / test_data.std()"
   ]
  },
  {
   "cell_type": "code",
   "execution_count": 312,
   "metadata": {},
   "outputs": [
    {
     "data": {
      "text/plain": [
       "KNeighborsClassifier(algorithm='brute', leaf_size=30, metric='euclidean',\n",
       "                     metric_params=None, n_jobs=None, n_neighbors=10, p=2,\n",
       "                     weights='distance')"
      ]
     },
     "execution_count": 312,
     "metadata": {},
     "output_type": "execute_result"
    }
   ],
   "source": [
    "knn_cos.fit(np.array(train_data), train_target)\n",
    "knn_euc.fit(np.array(train_data), train_target)"
   ]
  },
  {
   "cell_type": "code",
   "execution_count": 313,
   "metadata": {},
   "outputs": [],
   "source": [
    "result_cos_no_folds = knn_cos.predict(np.array(test_data))\n",
    "result_euc_no_folds = knn_euc.predict(np.array(test_data))"
   ]
  },
  {
   "cell_type": "code",
   "execution_count": 314,
   "metadata": {},
   "outputs": [
    {
     "name": "stdout",
     "output_type": "stream",
     "text": [
      "Roc-auc euc:  0.7613180025488058\n",
      "Roc-auc cos:  0.7558968484294405\n"
     ]
    }
   ],
   "source": [
    "print(\"Roc-auc euc: \", roc_auc_score(test_target, result_euc_no_folds))\n",
    "print(\"Roc-auc cos: \", roc_auc_score(test_target, result_cos_no_folds))"
   ]
  },
  {
   "cell_type": "code",
   "execution_count": 317,
   "metadata": {},
   "outputs": [
    {
     "data": {
      "text/plain": [
       "KNeighborsClassifier(algorithm='brute', leaf_size=30, metric='euclidean',\n",
       "                     metric_params=None, n_jobs=None, n_neighbors=100, p=2,\n",
       "                     weights='distance')"
      ]
     },
     "execution_count": 317,
     "metadata": {},
     "output_type": "execute_result"
    }
   ],
   "source": [
    "# finding optimal k for no folds\n",
    "knn_find_k = KNeighborsClassifier(n_neighbors=100, metric='euclidean', \n",
    "                                  algorithm = 'brute', weights='distance')\n",
    "knn_find_k.fit(np.array(train_data), train_target)"
   ]
  },
  {
   "cell_type": "code",
   "execution_count": 318,
   "metadata": {},
   "outputs": [
    {
     "name": "stdout",
     "output_type": "stream",
     "text": [
      "CPU times: user 13 s, sys: 4.15 s, total: 17.1 s\n",
      "Wall time: 14.9 s\n"
     ]
    }
   ],
   "source": [
    "%time all_roc_dist, all_roc_neighb = knn_find_k.kneighbors(np.array(test_data), n_neighbors=100)"
   ]
  },
  {
   "cell_type": "code",
   "execution_count": 319,
   "metadata": {},
   "outputs": [
    {
     "name": "stdout",
     "output_type": "stream",
     "text": [
      "Roc-auc 0.7263432332781563 for k=1\n",
      "Roc-auc 0.7803027071166643 for k=2\n",
      "Roc-auc 0.8062266822287605 for k=3\n",
      "Roc-auc 0.8234407737690755 for k=4\n",
      "Roc-auc 0.8330228663018987 for k=5\n",
      "Roc-auc 0.8396565016009614 for k=6\n",
      "Roc-auc 0.844923159629847 for k=7\n",
      "Roc-auc 0.8474085468333485 for k=8\n",
      "Roc-auc 0.8497506314010986 for k=9\n",
      "Roc-auc 0.8509008276640743 for k=10\n",
      "Roc-auc 0.8516664181433553 for k=11\n",
      "Roc-auc 0.8520715067385037 for k=12\n",
      "Roc-auc 0.8530239079425629 for k=13\n",
      "Roc-auc 0.8541684139242262 for k=14\n",
      "Roc-auc 0.8546923490524658 for k=15\n",
      "Roc-auc 0.85541286854147 for k=16\n",
      "Roc-auc 0.8557939853132189 for k=17\n",
      "Roc-auc 0.8565721010151947 for k=18\n",
      "Roc-auc 0.857225701915461 for k=19\n",
      "Roc-auc 0.8577792991484124 for k=20\n",
      "Roc-auc 0.8585786570997739 for k=21\n",
      "Roc-auc 0.8593868421412945 for k=22\n",
      "Roc-auc 0.8594234492508573 for k=23\n",
      "Roc-auc 0.8601063930717776 for k=24\n",
      "Roc-auc 0.8604380693335573 for k=25\n",
      "Roc-auc 0.8607370787579399 for k=26\n",
      "Roc-auc 0.8609390342159587 for k=27\n",
      "Roc-auc 0.86152237059805 for k=28\n",
      "Roc-auc 0.8618877923192166 for k=29\n",
      "Roc-auc 0.8621209067451164 for k=30\n",
      "Roc-auc 0.8621768740187566 for k=31\n",
      "Roc-auc 0.8621033296092258 for k=32\n",
      "Roc-auc 0.8626642460628207 for k=33\n",
      "Roc-auc 0.8628237170220683 for k=34\n",
      "Roc-auc 0.8631991435125047 for k=35\n",
      "Roc-auc 0.8632590620646577 for k=36\n",
      "Roc-auc 0.8636360954817318 for k=37\n",
      "Roc-auc 0.8637804437204323 for k=38\n",
      "Roc-auc 0.864076503443864 for k=39\n",
      "Roc-auc 0.8643903824428164 for k=40\n",
      "Roc-auc 0.8642738802616006 for k=41\n",
      "Roc-auc 0.8643231886954076 for k=42\n",
      "Roc-auc 0.8647382490407859 for k=43\n",
      "Roc-auc 0.864979464137954 for k=44\n",
      "Roc-auc 0.8651484665935582 for k=45\n",
      "Roc-auc 0.8653569488152484 for k=46\n",
      "Roc-auc 0.8655511447987505 for k=47\n",
      "Roc-auc 0.865779438444738 for k=48\n",
      "Roc-auc 0.8657483895403253 for k=49\n",
      "Roc-auc 0.8657709305386369 for k=50\n",
      "Roc-auc 0.8657786019623789 for k=51\n",
      "Roc-auc 0.8655437595400263 for k=52\n",
      "Roc-auc 0.8656386342497173 for k=53\n",
      "Roc-auc 0.8656821423387439 for k=54\n",
      "Roc-auc 0.8657101314787373 for k=55\n",
      "Roc-auc 0.865809485771589 for k=56\n",
      "Roc-auc 0.8658532139875524 for k=57\n",
      "Roc-auc 0.8661308931117747 for k=58\n",
      "Roc-auc 0.866230731683887 for k=59\n",
      "Roc-auc 0.8662618026009935 for k=60\n",
      "Roc-auc 0.8661702848270861 for k=61\n",
      "Roc-auc 0.8662246121550484 for k=62\n",
      "Roc-auc 0.8662663702349287 for k=63\n",
      "Roc-auc 0.8664016822628803 for k=64\n",
      "Roc-auc 0.8665159061303018 for k=65\n",
      "Roc-auc 0.8665650824879468 for k=66\n",
      "Roc-auc 0.8666637213682544 for k=67\n",
      "Roc-auc 0.8668304675227579 for k=68\n",
      "Roc-auc 0.8668541641874871 for k=69\n",
      "Roc-auc 0.8667993085548769 for k=70\n",
      "Roc-auc 0.8668807885404735 for k=71\n",
      "Roc-auc 0.8669572496319148 for k=72\n",
      "Roc-auc 0.8671167976355902 for k=73\n",
      "Roc-auc 0.8669185293037599 for k=74\n",
      "Roc-auc 0.8669837749277798 for k=75\n",
      "Roc-auc 0.8669116943623775 for k=76\n",
      "Roc-auc 0.866985921165412 for k=77\n",
      "Roc-auc 0.8671141010806163 for k=78\n",
      "Roc-auc 0.8672106267423323 for k=79\n",
      "Roc-auc 0.8675208296214428 for k=80\n",
      "Roc-auc 0.8675246378174467 for k=81\n",
      "Roc-auc 0.8677618796234086 for k=82\n",
      "Roc-auc 0.8679136901652611 for k=83\n",
      "Roc-auc 0.8679237499662655 for k=84\n",
      "Roc-auc 0.8678988095843445 for k=85\n",
      "Roc-auc 0.868036939237085 for k=86\n",
      "Roc-auc 0.8681342903748133 for k=87\n",
      "Roc-auc 0.8683199564395208 for k=88\n",
      "Roc-auc 0.8683400540288359 for k=89\n",
      "Roc-auc 0.8683675258705282 for k=90\n",
      "Roc-auc 0.868312472123675 for k=91\n",
      "Roc-auc 0.8683560792698232 for k=92\n",
      "Roc-auc 0.8684042210308658 for k=93\n",
      "Roc-auc 0.8683721595425445 for k=94\n",
      "Roc-auc 0.8684058719828907 for k=95\n",
      "Roc-auc 0.8684961900649933 for k=96\n",
      "Roc-auc 0.8684982702645446 for k=97\n",
      "Roc-auc 0.8685973493987256 for k=98\n",
      "Roc-auc 0.868629388874353 for k=99\n",
      "Roc-auc 0.8687849966058627 for k=100\n"
     ]
    }
   ],
   "source": [
    "min_roc_auc = 0\n",
    "min_roc_k  = 0\n",
    "for k in range(1, 101):\n",
    "    current_test = np.empty(test_data.__len__())\n",
    "    nearest =  all_roc_neighb[:, :k]\n",
    "    distances = all_roc_dist[:, :k]\n",
    "    \n",
    "    for enum in range(test_data.__len__()):\n",
    "        target = 0\n",
    "        weights = make_weights(distances[enum])\n",
    "\n",
    "        for numb in range(nearest[enum].__len__()):\n",
    "            target += train_target[nearest[enum][numb]] * weights[numb]\n",
    "        current_test[enum] = target\n",
    "        \n",
    "    cur_rmse = roc_auc_score(test_target, current_test)\n",
    "    print(\"Roc-auc {} for k={}\".format(cur_rmse, k))\n",
    "    \n",
    "    if min_roc_auc == 0:\n",
    "        min_roc_auc = cur_rmse\n",
    "        min_roc_k = k\n",
    "    else:\n",
    "        if cur_rmse > min_roc_auc:\n",
    "            min_roc_auc = cur_rmse\n",
    "            min_roc_k = k "
   ]
  },
  {
   "cell_type": "code",
   "execution_count": 320,
   "metadata": {},
   "outputs": [
    {
     "data": {
      "text/plain": [
       "(0.8687849966058627, 100)"
      ]
     },
     "execution_count": 320,
     "metadata": {},
     "output_type": "execute_result"
    }
   ],
   "source": [
    "min_roc_auc, min_roc_k"
   ]
  },
  {
   "cell_type": "code",
   "execution_count": 321,
   "metadata": {},
   "outputs": [],
   "source": [
    "train_data, test_data, train_target, test_target = train_test_split(pd.DataFrame.copy(data),\n",
    "                                                                    np.array(pd.DataFrame.copy(data['target'])),\n",
    "                                                                    test_size=0.3, random_state=241)"
   ]
  },
  {
   "cell_type": "code",
   "execution_count": 322,
   "metadata": {},
   "outputs": [
    {
     "name": "stderr",
     "output_type": "stream",
     "text": [
      "/usr/local/lib/python3.7/site-packages/ipykernel_launcher.py:77: RuntimeWarning: invalid value encountered in true_divide\n"
     ]
    }
   ],
   "source": [
    "transformAccordingTo(train_data,\n",
    "                     test_data,\n",
    "                     ['neighbourhood_group', 'neighbourhood', 'room_type', 'last_review'],\n",
    "                     True)"
   ]
  },
  {
   "cell_type": "code",
   "execution_count": 323,
   "metadata": {},
   "outputs": [],
   "source": [
    "train_data.drop(columns={'id', 'host_id','target', 'price', 'name', 'host_name'}, inplace=True)\n",
    "test_data.drop(columns={'id', 'host_id', 'target', 'price', 'name', 'host_name'}, inplace=True)\n",
    "train_data = (train_data - train_data.mean()) / train_data.std()\n",
    "test_data = (test_data - test_data.mean()) / test_data.std()\n",
    "train_data.fillna(0, inplace = True)\n",
    "test_data.fillna(0, inplace = True)"
   ]
  },
  {
   "cell_type": "code",
   "execution_count": 324,
   "metadata": {},
   "outputs": [
    {
     "data": {
      "text/plain": [
       "KNeighborsClassifier(algorithm='brute', leaf_size=30, metric='euclidean',\n",
       "                     metric_params=None, n_jobs=None, n_neighbors=10, p=2,\n",
       "                     weights='distance')"
      ]
     },
     "execution_count": 324,
     "metadata": {},
     "output_type": "execute_result"
    }
   ],
   "source": [
    "knn_cos.fit(np.array(train_data), train_target)\n",
    "knn_euc.fit(np.array(train_data), train_target)"
   ]
  },
  {
   "cell_type": "code",
   "execution_count": 325,
   "metadata": {},
   "outputs": [],
   "source": [
    "result_cos = knn_cos.predict(np.array(test_data))\n",
    "result_euc = knn_euc.predict(np.array(test_data))"
   ]
  },
  {
   "cell_type": "code",
   "execution_count": 326,
   "metadata": {},
   "outputs": [
    {
     "name": "stdout",
     "output_type": "stream",
     "text": [
      "folded Roc-auc euc:  0.7713303221729416\n",
      "folded Roc-auc cos:  0.7650973619239483\n"
     ]
    }
   ],
   "source": [
    "print(\"folded Roc-auc euc: \", roc_auc_score(test_target, result_euc))\n",
    "print(\"folded Roc-auc cos: \", roc_auc_score(test_target, result_cos))"
   ]
  },
  {
   "cell_type": "raw",
   "metadata": {},
   "source": [
    "Лучшим оказался метод с фолдингом на евклидовой метрике, будем подбирать для него"
   ]
  },
  {
   "cell_type": "code",
   "execution_count": 156,
   "metadata": {
    "scrolled": true
   },
   "outputs": [
    {
     "name": "stdout",
     "output_type": "stream",
     "text": [
      "CPU times: user 10.7 s, sys: 2.43 s, total: 13.1 s\n",
      "Wall time: 10.3 s\n"
     ]
    }
   ],
   "source": [
    "%time all_roc_dist, all_roc_neighb = knn_euc.kneighbors(np.array(test_data), n_neighbors=100)"
   ]
  },
  {
   "cell_type": "code",
   "execution_count": 77,
   "metadata": {},
   "outputs": [
    {
     "name": "stdout",
     "output_type": "stream",
     "text": [
      "Roc-auc 0.7364726604325839 for k=1\n",
      "Roc-auc 0.7990855993090128 for k=2\n",
      "Roc-auc 0.8242565311772163 for k=3\n",
      "Roc-auc 0.8385357363094142 for k=4\n",
      "Roc-auc 0.8475209216345024 for k=5\n",
      "Roc-auc 0.8562432423782039 for k=6\n",
      "Roc-auc 0.8610005707010959 for k=7\n",
      "Roc-auc 0.8626452711208824 for k=8\n",
      "Roc-auc 0.8655117530834391 for k=9\n",
      "Roc-auc 0.868601311683585 for k=10\n",
      "Roc-auc 0.8709272499405327 for k=11\n",
      "Roc-auc 0.8726401787043303 for k=12\n",
      "Roc-auc 0.8740774314990287 for k=13\n",
      "Roc-auc 0.8746623307823702 for k=14\n",
      "Roc-auc 0.8759243515291579 for k=15\n",
      "Roc-auc 0.876419053800212 for k=16\n",
      "Roc-auc 0.8765964320857551 for k=17\n",
      "Roc-auc 0.8773022250826985 for k=18\n",
      "Roc-auc 0.8776491231221466 for k=19\n",
      "Roc-auc 0.8784319605469135 for k=20\n",
      "Roc-auc 0.8790418332312164 for k=21\n",
      "Roc-auc 0.8801259473878134 for k=22\n",
      "Roc-auc 0.8806337912369845 for k=23\n",
      "Roc-auc 0.8810437556437797 for k=24\n",
      "Roc-auc 0.8809727537003669 for k=25\n",
      "Roc-auc 0.8812313588255295 for k=26\n",
      "Roc-auc 0.8816355779192784 for k=27\n",
      "Roc-auc 0.8821338792657464 for k=28\n",
      "Roc-auc 0.8819169441696892 for k=29\n",
      "Roc-auc 0.8822700718014446 for k=30\n",
      "Roc-auc 0.8826395768772854 for k=31\n",
      "Roc-auc 0.8826977124012516 for k=32\n",
      "Roc-auc 0.8833251952404859 for k=33\n",
      "Roc-auc 0.8834179897506258 for k=34\n",
      "Roc-auc 0.883577614798729 for k=35\n",
      "Roc-auc 0.8838337545022011 for k=36\n",
      "Roc-auc 0.8841868160958752 for k=37\n",
      "Roc-auc 0.8839361355404316 for k=38\n",
      "Roc-auc 0.8838254006849559 for k=39\n",
      "Roc-auc 0.8840470905228442 for k=40\n",
      "Roc-auc 0.884360044988663 for k=41\n",
      "Roc-auc 0.8842394484464255 for k=42\n",
      "Roc-auc 0.8843948360509984 for k=43\n",
      "Roc-auc 0.8847808946724747 for k=44\n",
      "Roc-auc 0.8849249237271172 for k=45\n",
      "Roc-auc 0.8849688390509765 for k=46\n",
      "Roc-auc 0.884828023849609 for k=47\n",
      "Roc-auc 0.8849132349867816 for k=48\n",
      "Roc-auc 0.8850370233696001 for k=49\n",
      "Roc-auc 0.8851628809456231 for k=50\n",
      "Roc-auc 0.8852000603852211 for k=51\n",
      "Roc-auc 0.8852916662099033 for k=52\n",
      "Roc-auc 0.8852449662802955 for k=53\n",
      "Roc-auc 0.885231120295981 for k=54\n",
      "Roc-auc 0.8854231590355041 for k=55\n",
      "Roc-auc 0.8852840388115488 for k=56\n",
      "Roc-auc 0.8851935446278969 for k=57\n",
      "Roc-auc 0.8851792583897089 for k=58\n",
      "Roc-auc 0.8849649097851575 for k=59\n",
      "Roc-auc 0.8851302801463068 for k=60\n",
      "Roc-auc 0.8851366528211226 for k=61\n",
      "Roc-auc 0.885205453495169 for k=62\n",
      "Roc-auc 0.8852697305606673 for k=63\n",
      "Roc-auc 0.8851494532024882 for k=64\n",
      "Roc-auc 0.8852127837221588 for k=65\n",
      "Roc-auc 0.885108861795372 for k=66\n",
      "Roc-auc 0.8851344185327157 for k=67\n",
      "Roc-auc 0.8850834811595776 for k=68\n",
      "Roc-auc 0.8851647960499719 for k=69\n",
      "Roc-auc 0.8852202019999236 for k=70\n",
      "Roc-auc 0.8851753621429306 for k=71\n",
      "Roc-auc 0.8853244100917282 for k=72\n",
      "Roc-auc 0.885270721131882 for k=73\n",
      "Roc-auc 0.8854419028441589 for k=74\n",
      "Roc-auc 0.8854626828269776 for k=75\n",
      "Roc-auc 0.8852633358731579 for k=76\n",
      "Roc-auc 0.8853368802826888 for k=77\n",
      "Roc-auc 0.885341128732566 for k=78\n",
      "Roc-auc 0.8852395401513071 for k=79\n",
      "Roc-auc 0.8852567650840993 for k=80\n",
      "Roc-auc 0.885213036868136 for k=81\n",
      "Roc-auc 0.8851405380615542 for k=82\n",
      "Roc-auc 0.8850773836434327 for k=83\n",
      "Roc-auc 0.8849812542102029 for k=84\n",
      "Roc-auc 0.8851307204001801 for k=85\n",
      "Roc-auc 0.885070823860721 for k=86\n",
      "Roc-auc 0.8850305186186226 for k=87\n",
      "Roc-auc 0.8849339819505598 for k=88\n",
      "Roc-auc 0.8848638385022 for k=89\n",
      "Roc-auc 0.884909999120813 for k=90\n",
      "Roc-auc 0.8849023276970712 for k=91\n",
      "Roc-auc 0.8849444049610096 for k=92\n",
      "Roc-auc 0.8849094267907779 for k=93\n",
      "Roc-auc 0.8850260830608492 for k=94\n",
      "Roc-auc 0.8849105054127673 for k=95\n",
      "Roc-auc 0.8849500402105877 for k=96\n",
      "Roc-auc 0.8850132056350559 for k=97\n",
      "Roc-auc 0.8849345432742481 for k=98\n",
      "Roc-auc 0.8849562037648132 for k=99\n",
      "Roc-auc 0.884914522729361 for k=100\n"
     ]
    }
   ],
   "source": [
    "min_roc_auc = 0\n",
    "min_roc_k  = 0\n",
    "for k in range(1, 101):\n",
    "    current_test = np.empty(test_data.__len__())\n",
    "    nearest =  all_roc_neighb[:, :k]\n",
    "    distances = all_roc_dist[:, :k]\n",
    "    \n",
    "    for enum in range(test_data.__len__()):\n",
    "        target = 0\n",
    "        weights = make_weights(distances[enum])\n",
    "\n",
    "        for numb in range(nearest[enum].__len__()):\n",
    "            target += train_target[nearest[enum][numb]] * weights[numb]\n",
    "        current_test[enum] = target\n",
    "        \n",
    "    cur_rmse = roc_auc_score(test_target, current_test)\n",
    "    print(\"Roc-auc {} for k={}\".format(cur_rmse, k))\n",
    "    \n",
    "    if min_roc_auc == 0:\n",
    "        min_roc_auc = cur_rmse\n",
    "        min_roc_k = k\n",
    "    else:\n",
    "        if cur_rmse > min_roc_auc:\n",
    "            min_roc_auc = cur_rmse\n",
    "            min_roc_k = k"
   ]
  },
  {
   "cell_type": "code",
   "execution_count": 78,
   "metadata": {},
   "outputs": [
    {
     "data": {
      "text/plain": [
       "(0.8854626828269776, 75)"
      ]
     },
     "execution_count": 78,
     "metadata": {},
     "output_type": "execute_result"
    }
   ],
   "source": [
    "min_roc_auc, min_roc_k"
   ]
  },
  {
   "cell_type": "code",
   "execution_count": 157,
   "metadata": {},
   "outputs": [
    {
     "name": "stdout",
     "output_type": "stream",
     "text": [
      "CPU times: user 10.2 s, sys: 2.31 s, total: 12.5 s\n",
      "Wall time: 9.69 s\n"
     ]
    }
   ],
   "source": [
    "%time all_c_roc_dist, all_c_roc_neighb = knn_cos.kneighbors(np.array(test_data), n_neighbors=100)"
   ]
  },
  {
   "cell_type": "code",
   "execution_count": 158,
   "metadata": {},
   "outputs": [
    {
     "name": "stdout",
     "output_type": "stream",
     "text": [
      "Roc-auc 0.7345488720761805 for k=1\n",
      "Roc-auc 0.7940672224519614 for k=2\n",
      "Roc-auc 0.8198635239408075 for k=3\n",
      "Roc-auc 0.8358146261758136 for k=4\n",
      "Roc-auc 0.8461725891158588 for k=5\n",
      "Roc-auc 0.8538380033923323 for k=6\n",
      "Roc-auc 0.8578068040091456 for k=7\n",
      "Roc-auc 0.8619831182891279 for k=8\n",
      "Roc-auc 0.8638274518277513 for k=9\n",
      "Roc-auc 0.8653824725335515 for k=10\n",
      "Roc-auc 0.8677206388418294 for k=11\n",
      "Roc-auc 0.8698616594656543 for k=12\n",
      "Roc-auc 0.8716526562475305 for k=13\n",
      "Roc-auc 0.8729517353641013 for k=14\n",
      "Roc-auc 0.8745752265535425 for k=15\n",
      "Roc-auc 0.8757846259561269 for k=16\n",
      "Roc-auc 0.8763790897548653 for k=17\n",
      "Roc-auc 0.8772572971749304 for k=18\n",
      "Roc-auc 0.8774351597397343 for k=19\n",
      "Roc-auc 0.8777869225844821 for k=20\n",
      "Roc-auc 0.878050887800552 for k=21\n",
      "Roc-auc 0.8784916039403953 for k=22\n",
      "Roc-auc 0.8789551362372214 for k=23\n",
      "Roc-auc 0.8791995541813178 for k=24\n",
      "Roc-auc 0.8796684025436635 for k=25\n",
      "Roc-auc 0.8799074824095465 for k=26\n",
      "Roc-auc 0.8802498568404468 for k=27\n",
      "Roc-auc 0.8809219814224312 for k=28\n",
      "Roc-auc 0.8812458211652665 for k=29\n",
      "Roc-auc 0.8811128975145776 for k=30\n",
      "Roc-auc 0.8811364180777574 for k=31\n",
      "Roc-auc 0.8809795226036685 for k=32\n",
      "Roc-auc 0.8812170835936884 for k=33\n",
      "Roc-auc 0.8812683511572315 for k=34\n",
      "Roc-auc 0.8813466393022469 for k=35\n",
      "Roc-auc 0.8812940179580436 for k=36\n",
      "Roc-auc 0.8811764151421446 for k=37\n",
      "Roc-auc 0.8815596781515255 for k=38\n",
      "Roc-auc 0.8814256978915405 for k=39\n",
      "Roc-auc 0.8815137376598491 for k=40\n",
      "Roc-auc 0.8816858439052597 for k=41\n",
      "Roc-auc 0.881939815358406 for k=42\n",
      "Roc-auc 0.8823960394409358 for k=43\n",
      "Roc-auc 0.8823858915891567 for k=44\n",
      "Roc-auc 0.8825991725780655 for k=45\n",
      "Roc-auc 0.8826717704417687 for k=46\n",
      "Roc-auc 0.8827490129838352 for k=47\n",
      "Roc-auc 0.8827738102832473 for k=48\n",
      "Roc-auc 0.882689182482457 for k=49\n",
      "Roc-auc 0.8827146621753729 for k=50\n",
      "Roc-auc 0.8829590801194691 for k=51\n",
      "Roc-auc 0.8832174541113483 for k=52\n",
      "Roc-auc 0.8831866473465657 for k=53\n",
      "Roc-auc 0.8832858585569086 for k=54\n",
      "Roc-auc 0.8834473656903202 for k=55\n",
      "Roc-auc 0.8834721739960792 for k=56\n",
      "Roc-auc 0.8837751677180149 for k=57\n",
      "Roc-auc 0.883896963952057 for k=58\n",
      "Roc-auc 0.8838430438589274 for k=59\n",
      "Roc-auc 0.883926615050422 for k=60\n",
      "Roc-auc 0.8839809974101186 for k=61\n",
      "Roc-auc 0.8839174027381237 for k=62\n",
      "Roc-auc 0.8838429558081526 for k=63\n",
      "Roc-auc 0.8838776258006733 for k=64\n",
      "Roc-auc 0.8837338278793143 for k=65\n",
      "Roc-auc 0.8835183015956517 for k=66\n",
      "Roc-auc 0.8834804947942841 for k=67\n",
      "Roc-auc 0.8836098633949463 for k=68\n",
      "Roc-auc 0.883437999289166 for k=69\n",
      "Roc-auc 0.8835222528741644 for k=70\n",
      "Roc-auc 0.8836537236870717 for k=71\n",
      "Roc-auc 0.8836614501425475 for k=72\n",
      "Roc-auc 0.8835205248777118 for k=73\n",
      "Roc-auc 0.883564715360242 for k=74\n",
      "Roc-auc 0.8834198057978531 for k=75\n",
      "Roc-auc 0.8833227408251423 for k=76\n",
      "Roc-auc 0.8833372912156542 for k=77\n",
      "Roc-auc 0.8834951442419174 for k=78\n",
      "Roc-auc 0.8834518452734808 for k=79\n",
      "Roc-auc 0.8834696425363079 for k=80\n",
      "Roc-auc 0.883460661357293 for k=81\n",
      "Roc-auc 0.8834598578939742 for k=82\n",
      "Roc-auc 0.8835179383862062 for k=83\n",
      "Roc-auc 0.883607530049418 for k=84\n",
      "Roc-auc 0.8836791483482533 for k=85\n",
      "Roc-auc 0.8837469804637785 for k=86\n",
      "Roc-auc 0.8837385055767177 for k=87\n",
      "Roc-auc 0.8836635523547924 for k=88\n",
      "Roc-auc 0.8835079446232827 for k=89\n",
      "Roc-auc 0.883339789656385 for k=90\n",
      "Roc-auc 0.8832566477124166 for k=91\n",
      "Roc-auc 0.883209870738381 for k=92\n",
      "Roc-auc 0.883245619352891 for k=93\n",
      "Roc-auc 0.8830790713126305 for k=94\n",
      "Roc-auc 0.8830506749378042 for k=95\n",
      "Roc-auc 0.8830861483936434 for k=96\n",
      "Roc-auc 0.883132672221702 for k=97\n",
      "Roc-auc 0.883091354395695 for k=98\n",
      "Roc-auc 0.8829875425323763 for k=99\n",
      "Roc-auc 0.8829333582869228 for k=100\n"
     ]
    }
   ],
   "source": [
    "min_roc_auc = 0\n",
    "min_roc_k  = 0\n",
    "for k in range(1, 101):\n",
    "    current_test = np.empty(test_data.__len__())\n",
    "    nearest =  all_c_roc_neighb[:, :k]\n",
    "    distances = all_c_roc_dist[:, :k]\n",
    "    \n",
    "    for enum in range(test_data.__len__()):\n",
    "        target = 0\n",
    "        weights = make_weights(distances[enum])\n",
    "\n",
    "        for numb in range(nearest[enum].__len__()):\n",
    "            target += train_target[nearest[enum][numb]] * weights[numb]\n",
    "        current_test[enum] = target\n",
    "        \n",
    "    cur_rmse = roc_auc_score(test_target, current_test)\n",
    "    print(\"Roc-auc {} for k={}\".format(cur_rmse, k))\n",
    "    \n",
    "    if min_roc_auc == 0:\n",
    "        min_roc_auc = cur_rmse\n",
    "        min_roc_k = k\n",
    "    else:\n",
    "        if cur_rmse > min_roc_auc:\n",
    "            min_roc_auc = cur_rmse\n",
    "            min_roc_k = k"
   ]
  },
  {
   "cell_type": "code",
   "execution_count": 159,
   "metadata": {},
   "outputs": [
    {
     "data": {
      "text/plain": [
       "(0.8839809974101186, 61)"
      ]
     },
     "execution_count": 159,
     "metadata": {},
     "output_type": "execute_result"
    }
   ],
   "source": [
    "min_roc_auc, min_roc_k"
   ]
  },
  {
   "cell_type": "markdown",
   "metadata": {},
   "source": [
    "## Подвывод:\n",
    "#### С фолдингом vs Без него:\n",
    "###### Без фолдинга была получен Roc-Auc:\n",
    "* euc:  0.7613180025488058\n",
    "* cos:  0.7558968484294405\n",
    "###### С фолдингом:\n",
    "* euc:  0.7713303221729416\n",
    "* cos:  0.7650973619239483\n",
    "#### Для метода были найдены оптимальные k и максимальные значения Roc-Auc:\n",
    "* euc, no folds: 0.8687849966058627, k = 100\n",
    "* euc: 0.8854626828269776, k = 75\n",
    "* cos: 0.8839809974101186, k = 61"
   ]
  },
  {
   "cell_type": "markdown",
   "metadata": {},
   "source": [
    "<b>2.5 (1 балл)</b> Вернемся к задаче регрессии. Утверждается, что для задачи регрессии можно также сделать преобразование категориальных признаков в действительные числа. Для этого достаточно для каждого значения признака $f_j$ вычислить:\n",
    "\\begin{align}\n",
    "p_j(c) = g(T_i | f_j(x_i) = c),\n",
    "\\end{align}\n",
    "\n",
    "где $T_i$ - значения целевой переменной объекта $x_i$. Функция $g$ - среднее (mean) или среднеквадратичное отклонение (std).\n",
    "\n",
    "Закодируйте категориальные признаки обоими способами и найдите значение RMSE. Используйте евклидову метрику для поиска ближайших соседей. Для какой функции $g$ значение RMSE лучше? Почему?"
   ]
  },
  {
   "cell_type": "code",
   "execution_count": 80,
   "metadata": {},
   "outputs": [],
   "source": [
    "train_data, test_data, train_target, test_target = train_test_split(pd.DataFrame.copy(data.drop(columns={'target'})),\n",
    "                                                                    np.array(pd.DataFrame.copy(data['price'])),\n",
    "                                                                    test_size=0.3, random_state=241)"
   ]
  },
  {
   "cell_type": "code",
   "execution_count": 81,
   "metadata": {},
   "outputs": [],
   "source": [
    "def Transforming_df(df, cols):\n",
    "    \n",
    "    for item in cols:\n",
    "        \n",
    "        helper = df.groupby(item, as_index=False)['price'].mean()\n",
    "        \n",
    "        array = np.empty(df.__len__())\n",
    "        \n",
    "        for enum, element in enumerate(df[item]):\n",
    "            \n",
    "            array[enum] = np.array(helper['price'][np.argwhere(helper[item] == element)[0]])[0]\n",
    "            \n",
    "        df[item+\"new\"] = array\n",
    "\n",
    "def Transform_test_df(train_df, test_df, cols):\n",
    "    \n",
    "    Transforming_df(train_df, cols)\n",
    "\n",
    "    for item in cols:\n",
    "        \n",
    "        replacement = np.empty(test_df.__len__())\n",
    "        target_col = np.array(train_df[item])\n",
    "        target_replacement = np.array(train_df[item+'new'])\n",
    "        \n",
    "        for enum, value in enumerate(test_df[item]):\n",
    "            \n",
    "            pos = np.argwhere(target_col == value).T[0]\n",
    "            if pos.__len__() == 0:\n",
    "                replacement[enum] = 0\n",
    "            else:\n",
    "                replacement[enum] = target_replacement[pos[0]]\n",
    "                \n",
    "        test_df[item] = replacement\n",
    "        train_df[item] = train_df[item + 'new']\n",
    "        train_df.drop(columns={item + 'new'}, inplace=True)"
   ]
  },
  {
   "cell_type": "code",
   "execution_count": 82,
   "metadata": {},
   "outputs": [
    {
     "name": "stderr",
     "output_type": "stream",
     "text": [
      "/usr/local/lib/python3.7/site-packages/numpy/core/fromnumeric.py:61: FutureWarning: Series.nonzero() is deprecated and will be removed in a future version.Use Series.to_numpy().nonzero() instead\n",
      "  return bound(*args, **kwds)\n"
     ]
    }
   ],
   "source": [
    "Transform_test_df(train_data, test_data, \n",
    "                 ['name', 'host_name', 'neighbourhood_group', 'neighbourhood', 'room_type', 'last_review'])"
   ]
  },
  {
   "cell_type": "code",
   "execution_count": 83,
   "metadata": {},
   "outputs": [
    {
     "data": {
      "text/html": [
       "<div>\n",
       "<style scoped>\n",
       "    .dataframe tbody tr th:only-of-type {\n",
       "        vertical-align: middle;\n",
       "    }\n",
       "\n",
       "    .dataframe tbody tr th {\n",
       "        vertical-align: top;\n",
       "    }\n",
       "\n",
       "    .dataframe thead th {\n",
       "        text-align: right;\n",
       "    }\n",
       "</style>\n",
       "<table border=\"1\" class=\"dataframe\">\n",
       "  <thead>\n",
       "    <tr style=\"text-align: right;\">\n",
       "      <th></th>\n",
       "      <th>id</th>\n",
       "      <th>name</th>\n",
       "      <th>host_id</th>\n",
       "      <th>host_name</th>\n",
       "      <th>neighbourhood_group</th>\n",
       "      <th>neighbourhood</th>\n",
       "      <th>latitude</th>\n",
       "      <th>longitude</th>\n",
       "      <th>room_type</th>\n",
       "      <th>price</th>\n",
       "      <th>minimum_nights</th>\n",
       "      <th>number_of_reviews</th>\n",
       "      <th>last_review</th>\n",
       "      <th>reviews_per_month</th>\n",
       "      <th>calculated_host_listings_count</th>\n",
       "      <th>availability_365</th>\n",
       "    </tr>\n",
       "  </thead>\n",
       "  <tbody>\n",
       "    <tr>\n",
       "      <td>39319</td>\n",
       "      <td>30686870</td>\n",
       "      <td>60.0</td>\n",
       "      <td>221940893</td>\n",
       "      <td>134.092308</td>\n",
       "      <td>125.588152</td>\n",
       "      <td>89.544000</td>\n",
       "      <td>40.63628</td>\n",
       "      <td>-73.9697</td>\n",
       "      <td>90.525220</td>\n",
       "      <td>60</td>\n",
       "      <td>2</td>\n",
       "      <td>12</td>\n",
       "      <td>148.101961</td>\n",
       "      <td>3.67</td>\n",
       "      <td>3</td>\n",
       "      <td>220</td>\n",
       "    </tr>\n",
       "    <tr>\n",
       "      <td>22796</td>\n",
       "      <td>18458323</td>\n",
       "      <td>226.0</td>\n",
       "      <td>68274298</td>\n",
       "      <td>151.720000</td>\n",
       "      <td>197.712695</td>\n",
       "      <td>220.979339</td>\n",
       "      <td>40.73401</td>\n",
       "      <td>-73.9814</td>\n",
       "      <td>212.716015</td>\n",
       "      <td>226</td>\n",
       "      <td>2</td>\n",
       "      <td>15</td>\n",
       "      <td>139.888889</td>\n",
       "      <td>0.58</td>\n",
       "      <td>1</td>\n",
       "      <td>0</td>\n",
       "    </tr>\n",
       "  </tbody>\n",
       "</table>\n",
       "</div>"
      ],
      "text/plain": [
       "             id   name    host_id   host_name  neighbourhood_group  \\\n",
       "39319  30686870   60.0  221940893  134.092308           125.588152   \n",
       "22796  18458323  226.0   68274298  151.720000           197.712695   \n",
       "\n",
       "       neighbourhood  latitude  longitude   room_type  price  minimum_nights  \\\n",
       "39319      89.544000  40.63628   -73.9697   90.525220     60               2   \n",
       "22796     220.979339  40.73401   -73.9814  212.716015    226               2   \n",
       "\n",
       "       number_of_reviews  last_review  reviews_per_month  \\\n",
       "39319                 12   148.101961               3.67   \n",
       "22796                 15   139.888889               0.58   \n",
       "\n",
       "       calculated_host_listings_count  availability_365  \n",
       "39319                               3               220  \n",
       "22796                               1                 0  "
      ]
     },
     "execution_count": 83,
     "metadata": {},
     "output_type": "execute_result"
    }
   ],
   "source": [
    "train_data.head(2)"
   ]
  },
  {
   "cell_type": "code",
   "execution_count": 84,
   "metadata": {},
   "outputs": [],
   "source": [
    "train_data.drop(columns={'id', 'host_id', 'price'}, inplace=True)\n",
    "test_data.drop(columns={'id', 'host_id', 'price'}, inplace=True)"
   ]
  },
  {
   "cell_type": "code",
   "execution_count": 85,
   "metadata": {},
   "outputs": [],
   "source": [
    "train_data = (train_data - train_data.mean()) / train_data.std()\n",
    "test_data = (test_data - test_data.mean()) / test_data.std()"
   ]
  },
  {
   "cell_type": "code",
   "execution_count": 86,
   "metadata": {},
   "outputs": [],
   "source": [
    "knn_reg = KNNRegressor(n_neighbors=10, metric='euclidean', mode='uniform', algorithm = 'brute')"
   ]
  },
  {
   "cell_type": "code",
   "execution_count": 87,
   "metadata": {},
   "outputs": [],
   "source": [
    "knn_reg.fit(np.array(train_data), train_target)"
   ]
  },
  {
   "cell_type": "code",
   "execution_count": 89,
   "metadata": {},
   "outputs": [
    {
     "name": "stdout",
     "output_type": "stream",
     "text": [
      "(14669, 10)\n"
     ]
    }
   ],
   "source": [
    "res_reg = knn_reg.predict(np.array(test_data))"
   ]
  },
  {
   "cell_type": "code",
   "execution_count": 90,
   "metadata": {},
   "outputs": [
    {
     "data": {
      "text/plain": [
       "282.5392381447527"
      ]
     },
     "execution_count": 90,
     "metadata": {},
     "output_type": "execute_result"
    }
   ],
   "source": [
    "RMSE(test_target, res_reg)"
   ]
  },
  {
   "cell_type": "code",
   "execution_count": 136,
   "metadata": {},
   "outputs": [],
   "source": [
    "train_data, test_data, train_target, test_target = train_test_split(pd.DataFrame.copy(data.drop(columns={'target'})),\n",
    "                                                                    np.array(pd.DataFrame.copy(data['price'])),\n",
    "                                                                    test_size=0.3, random_state=241)"
   ]
  },
  {
   "cell_type": "code",
   "execution_count": 137,
   "metadata": {},
   "outputs": [],
   "source": [
    "def Transforming_df_std(df, cols):\n",
    "    \n",
    "    for item in cols:\n",
    "        \n",
    "        helper = df.groupby(item, as_index=False)['price'].std()\n",
    "        \n",
    "        array = np.empty(df.__len__())\n",
    "        \n",
    "        for enum, element in enumerate(df[item]):\n",
    "            \n",
    "            array[enum] = np.array(helper['price'][np.argwhere(helper[item] == element)[0]])[0]\n",
    "            \n",
    "        df[item+\"new\"] = array\n",
    "\n",
    "def Transform_test_df_std(train_df, test_df, cols):\n",
    "    \n",
    "    Transforming_df(train_df, cols)\n",
    "\n",
    "    for item in cols:\n",
    "        \n",
    "        replacement = np.empty(test_df.__len__())\n",
    "        target_col = np.array(train_df[item])\n",
    "        target_replacement = np.array(train_df[item+'new'])\n",
    "        \n",
    "        for enum, value in enumerate(test_df[item]):\n",
    "            \n",
    "            pos = np.argwhere(target_col == value).T[0]\n",
    "            if pos.__len__() == 0:\n",
    "                replacement[enum] = 0\n",
    "            else:\n",
    "                replacement[enum] = target_replacement[pos[0]]\n",
    "                \n",
    "        test_df[item] = replacement\n",
    "        train_df[item] = train_df[item + 'new']\n",
    "        train_df.drop(columns={item + 'new'}, inplace=True)"
   ]
  },
  {
   "cell_type": "code",
   "execution_count": 138,
   "metadata": {},
   "outputs": [
    {
     "name": "stderr",
     "output_type": "stream",
     "text": [
      "/usr/local/lib/python3.7/site-packages/numpy/core/fromnumeric.py:61: FutureWarning: Series.nonzero() is deprecated and will be removed in a future version.Use Series.to_numpy().nonzero() instead\n",
      "  return bound(*args, **kwds)\n"
     ]
    }
   ],
   "source": [
    "Transform_test_df_std(train_data, test_data, \n",
    "                 ['neighbourhood_group', 'neighbourhood', 'room_type', 'last_review'])"
   ]
  },
  {
   "cell_type": "code",
   "execution_count": 139,
   "metadata": {},
   "outputs": [
    {
     "data": {
      "text/html": [
       "<div>\n",
       "<style scoped>\n",
       "    .dataframe tbody tr th:only-of-type {\n",
       "        vertical-align: middle;\n",
       "    }\n",
       "\n",
       "    .dataframe tbody tr th {\n",
       "        vertical-align: top;\n",
       "    }\n",
       "\n",
       "    .dataframe thead th {\n",
       "        text-align: right;\n",
       "    }\n",
       "</style>\n",
       "<table border=\"1\" class=\"dataframe\">\n",
       "  <thead>\n",
       "    <tr style=\"text-align: right;\">\n",
       "      <th></th>\n",
       "      <th>id</th>\n",
       "      <th>name</th>\n",
       "      <th>host_id</th>\n",
       "      <th>host_name</th>\n",
       "      <th>neighbourhood_group</th>\n",
       "      <th>neighbourhood</th>\n",
       "      <th>latitude</th>\n",
       "      <th>longitude</th>\n",
       "      <th>room_type</th>\n",
       "      <th>price</th>\n",
       "      <th>minimum_nights</th>\n",
       "      <th>number_of_reviews</th>\n",
       "      <th>last_review</th>\n",
       "      <th>reviews_per_month</th>\n",
       "      <th>calculated_host_listings_count</th>\n",
       "      <th>availability_365</th>\n",
       "    </tr>\n",
       "  </thead>\n",
       "  <tbody>\n",
       "    <tr>\n",
       "      <td>39319</td>\n",
       "      <td>30686870</td>\n",
       "      <td>Large bedroom</td>\n",
       "      <td>221940893</td>\n",
       "      <td>Sara</td>\n",
       "      <td>125.588152</td>\n",
       "      <td>89.544000</td>\n",
       "      <td>40.63628</td>\n",
       "      <td>-73.9697</td>\n",
       "      <td>90.525220</td>\n",
       "      <td>60</td>\n",
       "      <td>2</td>\n",
       "      <td>12</td>\n",
       "      <td>148.101961</td>\n",
       "      <td>3.67</td>\n",
       "      <td>3</td>\n",
       "      <td>220</td>\n",
       "    </tr>\n",
       "    <tr>\n",
       "      <td>22796</td>\n",
       "      <td>18458323</td>\n",
       "      <td>Sun Drenched Gramercy/East Village!</td>\n",
       "      <td>68274298</td>\n",
       "      <td>Chelsea</td>\n",
       "      <td>197.712695</td>\n",
       "      <td>220.979339</td>\n",
       "      <td>40.73401</td>\n",
       "      <td>-73.9814</td>\n",
       "      <td>212.716015</td>\n",
       "      <td>226</td>\n",
       "      <td>2</td>\n",
       "      <td>15</td>\n",
       "      <td>139.888889</td>\n",
       "      <td>0.58</td>\n",
       "      <td>1</td>\n",
       "      <td>0</td>\n",
       "    </tr>\n",
       "  </tbody>\n",
       "</table>\n",
       "</div>"
      ],
      "text/plain": [
       "             id                                 name    host_id host_name  \\\n",
       "39319  30686870                        Large bedroom  221940893      Sara   \n",
       "22796  18458323  Sun Drenched Gramercy/East Village!   68274298   Chelsea   \n",
       "\n",
       "       neighbourhood_group  neighbourhood  latitude  longitude   room_type  \\\n",
       "39319           125.588152      89.544000  40.63628   -73.9697   90.525220   \n",
       "22796           197.712695     220.979339  40.73401   -73.9814  212.716015   \n",
       "\n",
       "       price  minimum_nights  number_of_reviews  last_review  \\\n",
       "39319     60               2                 12   148.101961   \n",
       "22796    226               2                 15   139.888889   \n",
       "\n",
       "       reviews_per_month  calculated_host_listings_count  availability_365  \n",
       "39319               3.67                               3               220  \n",
       "22796               0.58                               1                 0  "
      ]
     },
     "execution_count": 139,
     "metadata": {},
     "output_type": "execute_result"
    }
   ],
   "source": [
    "train_data.head(2)"
   ]
  },
  {
   "cell_type": "code",
   "execution_count": 140,
   "metadata": {},
   "outputs": [],
   "source": [
    "train_data.drop(columns={'name', 'host_name','id', 'host_id', 'price'}, inplace=True)\n",
    "test_data.drop(columns={'name', 'host_name','id', 'host_id', 'price'}, inplace=True)"
   ]
  },
  {
   "cell_type": "code",
   "execution_count": 141,
   "metadata": {},
   "outputs": [],
   "source": [
    "train_data = (train_data - train_data.mean()) / train_data.std()\n",
    "test_data = (test_data - test_data.mean()) / test_data.std()"
   ]
  },
  {
   "cell_type": "code",
   "execution_count": 142,
   "metadata": {},
   "outputs": [],
   "source": [
    "knn_reg.fit(train_data, train_target)"
   ]
  },
  {
   "cell_type": "code",
   "execution_count": 143,
   "metadata": {},
   "outputs": [
    {
     "name": "stdout",
     "output_type": "stream",
     "text": [
      "(14669, 10)\n"
     ]
    }
   ],
   "source": [
    "res_reg_std = knn_reg.predict(test_data)"
   ]
  },
  {
   "cell_type": "code",
   "execution_count": 144,
   "metadata": {},
   "outputs": [
    {
     "data": {
      "text/plain": [
       "215.5341001870594"
      ]
     },
     "execution_count": 144,
     "metadata": {},
     "output_type": "execute_result"
    }
   ],
   "source": [
    "RMSE(test_target, res_reg_std)"
   ]
  },
  {
   "cell_type": "markdown",
   "metadata": {},
   "source": [
    "### Из этих 2 методов лучше сработал тот, который заменяет на среднеквадратичное отклонение\n",
    "Результаты:\n",
    "* mean: RMSE = 282.5392381447527\n",
    "* std: RMSE = 215.5341001870594\n",
    "\n",
    "Я полагаю, что это из-за того, что std подвержена выбросам меньше, чем mean (а на выборке есть 6 объектов с price=9999 или 10000, и около 20 с price > 5000)"
   ]
  },
  {
   "cell_type": "markdown",
   "metadata": {},
   "source": [
    "## Часть 3: Текстовые признаки"
   ]
  },
  {
   "cell_type": "markdown",
   "metadata": {},
   "source": [
    "<b>3.1 (2 балла)</b> Перейдем от категориальным признаков к текстовым. Рассмотрим 2 способа преобразования текста в действительные числа:\n",
    "- Мешок слов (Bag of Words)\n",
    "- TF-IDF\n",
    "\n",
    "[Здесь](https://scikit-learn.org/stable/modules/feature_extraction.html) вы можете прочитать про их применение в Питоне.\n",
    "\n",
    "Сравните оба способа на задаче регресси. Какую лучше метрику использовать: евклидову или косинусную меру? Постройте графики зависимости качества решения задачи от способа преобразования, метрики и количества соседей. Мера качества - RMSE.\n",
    "\n",
    "Объясните полученные результаты.\n",
    "\n",
    "Перед преобразованием не забудьте уменьшить размер словаря. Например, это можно сделать за счет приведения всех слов к одному регистру и удаления [стопслов](https://en.wikipedia.org/wiki/Stop_words) (артиклей, предлогов, союзов)."
   ]
  },
  {
   "cell_type": "raw",
   "metadata": {
    "collapsed": true
   },
   "source": [
    "1: Воспользуемся TF-IDF"
   ]
  },
  {
   "cell_type": "code",
   "execution_count": 91,
   "metadata": {},
   "outputs": [],
   "source": [
    "from sklearn.feature_extraction.text import TfidfVectorizer"
   ]
  },
  {
   "cell_type": "code",
   "execution_count": 92,
   "metadata": {},
   "outputs": [],
   "source": [
    "vect = TfidfVectorizer(stop_words='english')"
   ]
  },
  {
   "cell_type": "code",
   "execution_count": 200,
   "metadata": {},
   "outputs": [
    {
     "data": {
      "text/plain": [
       "Index(['id', 'name', 'host_id', 'host_name', 'neighbourhood_group',\n",
       "       'neighbourhood', 'latitude', 'longitude', 'room_type', 'price',\n",
       "       'minimum_nights', 'number_of_reviews', 'last_review',\n",
       "       'reviews_per_month', 'calculated_host_listings_count',\n",
       "       'availability_365', 'target'],\n",
       "      dtype='object')"
      ]
     },
     "execution_count": 200,
     "metadata": {},
     "output_type": "execute_result"
    }
   ],
   "source": [
    "data.columns"
   ]
  },
  {
   "cell_type": "code",
   "execution_count": 201,
   "metadata": {},
   "outputs": [],
   "source": [
    "tfidf_test = pd.DataFrame.copy(data)"
   ]
  },
  {
   "cell_type": "code",
   "execution_count": 205,
   "metadata": {},
   "outputs": [],
   "source": [
    "train_data, test_data, train_target, test_target = train_test_split(tfidf_test,\n",
    "                                            price_col,\n",
    "                                            test_size=0.3,\n",
    "                                            random_state=241)"
   ]
  },
  {
   "cell_type": "code",
   "execution_count": 206,
   "metadata": {},
   "outputs": [
    {
     "name": "stderr",
     "output_type": "stream",
     "text": [
      "/usr/local/lib/python3.7/site-packages/ipykernel_launcher.py:1: SettingWithCopyWarning: \n",
      "A value is trying to be set on a copy of a slice from a DataFrame.\n",
      "Try using .loc[row_indexer,col_indexer] = value instead\n",
      "\n",
      "See the caveats in the documentation: http://pandas.pydata.org/pandas-docs/stable/user_guide/indexing.html#returning-a-view-versus-a-copy\n",
      "  \"\"\"Entry point for launching an IPython kernel.\n",
      "/usr/local/lib/python3.7/site-packages/ipykernel_launcher.py:2: SettingWithCopyWarning: \n",
      "A value is trying to be set on a copy of a slice from a DataFrame.\n",
      "Try using .loc[row_indexer,col_indexer] = value instead\n",
      "\n",
      "See the caveats in the documentation: http://pandas.pydata.org/pandas-docs/stable/user_guide/indexing.html#returning-a-view-versus-a-copy\n",
      "  \n"
     ]
    }
   ],
   "source": [
    "train_data['name'] = vect.fit_transform(np.array(train_data['name'])).toarray().sum(axis=1)\n",
    "test_data['name'] = vect.transform(np.array(test_data['name'])).toarray().sum(axis=1)"
   ]
  },
  {
   "cell_type": "code",
   "execution_count": 207,
   "metadata": {},
   "outputs": [
    {
     "name": "stderr",
     "output_type": "stream",
     "text": [
      "/usr/local/lib/python3.7/site-packages/ipykernel_launcher.py:1: SettingWithCopyWarning: \n",
      "A value is trying to be set on a copy of a slice from a DataFrame.\n",
      "Try using .loc[row_indexer,col_indexer] = value instead\n",
      "\n",
      "See the caveats in the documentation: http://pandas.pydata.org/pandas-docs/stable/user_guide/indexing.html#returning-a-view-versus-a-copy\n",
      "  \"\"\"Entry point for launching an IPython kernel.\n",
      "/usr/local/lib/python3.7/site-packages/ipykernel_launcher.py:2: SettingWithCopyWarning: \n",
      "A value is trying to be set on a copy of a slice from a DataFrame.\n",
      "Try using .loc[row_indexer,col_indexer] = value instead\n",
      "\n",
      "See the caveats in the documentation: http://pandas.pydata.org/pandas-docs/stable/user_guide/indexing.html#returning-a-view-versus-a-copy\n",
      "  \n"
     ]
    }
   ],
   "source": [
    "train_data['host_name'] = vect.fit_transform(np.array(train_data['host_name'])).toarray().sum(axis=1)\n",
    "test_data['host_name'] = vect.transform(np.array(test_data['host_name'])).toarray().sum(axis=1)"
   ]
  },
  {
   "cell_type": "code",
   "execution_count": 208,
   "metadata": {},
   "outputs": [
    {
     "name": "stderr",
     "output_type": "stream",
     "text": [
      "/usr/local/lib/python3.7/site-packages/ipykernel_launcher.py:1: SettingWithCopyWarning: \n",
      "A value is trying to be set on a copy of a slice from a DataFrame.\n",
      "Try using .loc[row_indexer,col_indexer] = value instead\n",
      "\n",
      "See the caveats in the documentation: http://pandas.pydata.org/pandas-docs/stable/user_guide/indexing.html#returning-a-view-versus-a-copy\n",
      "  \"\"\"Entry point for launching an IPython kernel.\n",
      "/usr/local/lib/python3.7/site-packages/ipykernel_launcher.py:2: SettingWithCopyWarning: \n",
      "A value is trying to be set on a copy of a slice from a DataFrame.\n",
      "Try using .loc[row_indexer,col_indexer] = value instead\n",
      "\n",
      "See the caveats in the documentation: http://pandas.pydata.org/pandas-docs/stable/user_guide/indexing.html#returning-a-view-versus-a-copy\n",
      "  \n"
     ]
    }
   ],
   "source": [
    "train_data['neighbourhood_group'] = vect.fit_transform(np.array(train_data['neighbourhood_group'])).toarray().sum(axis=1)\n",
    "test_data['neighbourhood_group'] = vect.transform(np.array(test_data['neighbourhood_group'])).toarray().sum(axis=1)"
   ]
  },
  {
   "cell_type": "code",
   "execution_count": 209,
   "metadata": {},
   "outputs": [
    {
     "name": "stderr",
     "output_type": "stream",
     "text": [
      "/usr/local/lib/python3.7/site-packages/ipykernel_launcher.py:1: SettingWithCopyWarning: \n",
      "A value is trying to be set on a copy of a slice from a DataFrame.\n",
      "Try using .loc[row_indexer,col_indexer] = value instead\n",
      "\n",
      "See the caveats in the documentation: http://pandas.pydata.org/pandas-docs/stable/user_guide/indexing.html#returning-a-view-versus-a-copy\n",
      "  \"\"\"Entry point for launching an IPython kernel.\n",
      "/usr/local/lib/python3.7/site-packages/ipykernel_launcher.py:2: SettingWithCopyWarning: \n",
      "A value is trying to be set on a copy of a slice from a DataFrame.\n",
      "Try using .loc[row_indexer,col_indexer] = value instead\n",
      "\n",
      "See the caveats in the documentation: http://pandas.pydata.org/pandas-docs/stable/user_guide/indexing.html#returning-a-view-versus-a-copy\n",
      "  \n"
     ]
    }
   ],
   "source": [
    "train_data['neighbourhood'] = vect.fit_transform(np.array(train_data['neighbourhood'])).toarray().sum(axis=1)\n",
    "test_data['neighbourhood'] = vect.transform(np.array(test_data['neighbourhood'])).toarray().sum(axis=1)"
   ]
  },
  {
   "cell_type": "code",
   "execution_count": 210,
   "metadata": {},
   "outputs": [
    {
     "name": "stderr",
     "output_type": "stream",
     "text": [
      "/usr/local/lib/python3.7/site-packages/ipykernel_launcher.py:1: SettingWithCopyWarning: \n",
      "A value is trying to be set on a copy of a slice from a DataFrame.\n",
      "Try using .loc[row_indexer,col_indexer] = value instead\n",
      "\n",
      "See the caveats in the documentation: http://pandas.pydata.org/pandas-docs/stable/user_guide/indexing.html#returning-a-view-versus-a-copy\n",
      "  \"\"\"Entry point for launching an IPython kernel.\n",
      "/usr/local/lib/python3.7/site-packages/ipykernel_launcher.py:2: SettingWithCopyWarning: \n",
      "A value is trying to be set on a copy of a slice from a DataFrame.\n",
      "Try using .loc[row_indexer,col_indexer] = value instead\n",
      "\n",
      "See the caveats in the documentation: http://pandas.pydata.org/pandas-docs/stable/user_guide/indexing.html#returning-a-view-versus-a-copy\n",
      "  \n"
     ]
    }
   ],
   "source": [
    "train_data['room_type'] = vect.fit_transform(np.array(train_data['room_type'])).toarray().sum(axis=1)\n",
    "test_data['room_type'] = vect.transform(np.array(test_data['room_type'])).toarray().sum(axis=1)"
   ]
  },
  {
   "cell_type": "code",
   "execution_count": 211,
   "metadata": {},
   "outputs": [
    {
     "name": "stderr",
     "output_type": "stream",
     "text": [
      "/usr/local/lib/python3.7/site-packages/ipykernel_launcher.py:1: SettingWithCopyWarning: \n",
      "A value is trying to be set on a copy of a slice from a DataFrame.\n",
      "Try using .loc[row_indexer,col_indexer] = value instead\n",
      "\n",
      "See the caveats in the documentation: http://pandas.pydata.org/pandas-docs/stable/user_guide/indexing.html#returning-a-view-versus-a-copy\n",
      "  \"\"\"Entry point for launching an IPython kernel.\n",
      "/usr/local/lib/python3.7/site-packages/ipykernel_launcher.py:2: SettingWithCopyWarning: \n",
      "A value is trying to be set on a copy of a slice from a DataFrame.\n",
      "Try using .loc[row_indexer,col_indexer] = value instead\n",
      "\n",
      "See the caveats in the documentation: http://pandas.pydata.org/pandas-docs/stable/user_guide/indexing.html#returning-a-view-versus-a-copy\n",
      "  \n"
     ]
    }
   ],
   "source": [
    "train_data['last_review'] = vect.fit_transform(np.array(train_data['last_review'])).toarray().sum(axis=1)\n",
    "test_data['last_review'] = vect.transform(np.array(test_data['last_review'])).toarray().sum(axis=1)"
   ]
  },
  {
   "cell_type": "code",
   "execution_count": 212,
   "metadata": {},
   "outputs": [
    {
     "data": {
      "text/html": [
       "<div>\n",
       "<style scoped>\n",
       "    .dataframe tbody tr th:only-of-type {\n",
       "        vertical-align: middle;\n",
       "    }\n",
       "\n",
       "    .dataframe tbody tr th {\n",
       "        vertical-align: top;\n",
       "    }\n",
       "\n",
       "    .dataframe thead th {\n",
       "        text-align: right;\n",
       "    }\n",
       "</style>\n",
       "<table border=\"1\" class=\"dataframe\">\n",
       "  <thead>\n",
       "    <tr style=\"text-align: right;\">\n",
       "      <th></th>\n",
       "      <th>id</th>\n",
       "      <th>name</th>\n",
       "      <th>host_id</th>\n",
       "      <th>host_name</th>\n",
       "      <th>neighbourhood_group</th>\n",
       "      <th>neighbourhood</th>\n",
       "      <th>latitude</th>\n",
       "      <th>longitude</th>\n",
       "      <th>room_type</th>\n",
       "      <th>price</th>\n",
       "      <th>minimum_nights</th>\n",
       "      <th>number_of_reviews</th>\n",
       "      <th>last_review</th>\n",
       "      <th>reviews_per_month</th>\n",
       "      <th>calculated_host_listings_count</th>\n",
       "      <th>availability_365</th>\n",
       "      <th>target</th>\n",
       "    </tr>\n",
       "  </thead>\n",
       "  <tbody>\n",
       "    <tr>\n",
       "      <td>39319</td>\n",
       "      <td>30686870</td>\n",
       "      <td>1.388041</td>\n",
       "      <td>221940893</td>\n",
       "      <td>1.0</td>\n",
       "      <td>1.0</td>\n",
       "      <td>1.0</td>\n",
       "      <td>40.63628</td>\n",
       "      <td>-73.9697</td>\n",
       "      <td>1.414065</td>\n",
       "      <td>60</td>\n",
       "      <td>2</td>\n",
       "      <td>12</td>\n",
       "      <td>1.230554</td>\n",
       "      <td>3.67</td>\n",
       "      <td>3</td>\n",
       "      <td>220</td>\n",
       "      <td>0</td>\n",
       "    </tr>\n",
       "    <tr>\n",
       "      <td>22796</td>\n",
       "      <td>18458323</td>\n",
       "      <td>2.176624</td>\n",
       "      <td>68274298</td>\n",
       "      <td>1.0</td>\n",
       "      <td>1.0</td>\n",
       "      <td>1.0</td>\n",
       "      <td>40.73401</td>\n",
       "      <td>-73.9814</td>\n",
       "      <td>1.732051</td>\n",
       "      <td>226</td>\n",
       "      <td>2</td>\n",
       "      <td>15</td>\n",
       "      <td>1.718969</td>\n",
       "      <td>0.58</td>\n",
       "      <td>1</td>\n",
       "      <td>0</td>\n",
       "      <td>1</td>\n",
       "    </tr>\n",
       "    <tr>\n",
       "      <td>26190</td>\n",
       "      <td>20886432</td>\n",
       "      <td>2.315612</td>\n",
       "      <td>75458625</td>\n",
       "      <td>1.0</td>\n",
       "      <td>1.0</td>\n",
       "      <td>1.0</td>\n",
       "      <td>40.74722</td>\n",
       "      <td>-73.9186</td>\n",
       "      <td>1.414065</td>\n",
       "      <td>78</td>\n",
       "      <td>2</td>\n",
       "      <td>20</td>\n",
       "      <td>1.673757</td>\n",
       "      <td>0.91</td>\n",
       "      <td>4</td>\n",
       "      <td>365</td>\n",
       "      <td>0</td>\n",
       "    </tr>\n",
       "  </tbody>\n",
       "</table>\n",
       "</div>"
      ],
      "text/plain": [
       "             id      name    host_id  host_name  neighbourhood_group  \\\n",
       "39319  30686870  1.388041  221940893        1.0                  1.0   \n",
       "22796  18458323  2.176624   68274298        1.0                  1.0   \n",
       "26190  20886432  2.315612   75458625        1.0                  1.0   \n",
       "\n",
       "       neighbourhood  latitude  longitude  room_type  price  minimum_nights  \\\n",
       "39319            1.0  40.63628   -73.9697   1.414065     60               2   \n",
       "22796            1.0  40.73401   -73.9814   1.732051    226               2   \n",
       "26190            1.0  40.74722   -73.9186   1.414065     78               2   \n",
       "\n",
       "       number_of_reviews  last_review  reviews_per_month  \\\n",
       "39319                 12     1.230554               3.67   \n",
       "22796                 15     1.718969               0.58   \n",
       "26190                 20     1.673757               0.91   \n",
       "\n",
       "       calculated_host_listings_count  availability_365  target  \n",
       "39319                               3               220       0  \n",
       "22796                               1                 0       1  \n",
       "26190                               4               365       0  "
      ]
     },
     "execution_count": 212,
     "metadata": {},
     "output_type": "execute_result"
    }
   ],
   "source": [
    "train_data.head(3)"
   ]
  },
  {
   "cell_type": "code",
   "execution_count": 213,
   "metadata": {},
   "outputs": [
    {
     "name": "stderr",
     "output_type": "stream",
     "text": [
      "/usr/local/lib/python3.7/site-packages/pandas/core/frame.py:4102: SettingWithCopyWarning: \n",
      "A value is trying to be set on a copy of a slice from a DataFrame\n",
      "\n",
      "See the caveats in the documentation: http://pandas.pydata.org/pandas-docs/stable/user_guide/indexing.html#returning-a-view-versus-a-copy\n",
      "  errors=errors,\n"
     ]
    }
   ],
   "source": [
    "price_col = np.array(tfidf_test['price'])\n",
    "train_data.drop(columns={'id', 'host_id', 'price', 'target'}, inplace=True)\n",
    "test_data.drop(columns={'id', 'host_id', 'price', 'target'}, inplace=True)"
   ]
  },
  {
   "cell_type": "code",
   "execution_count": 214,
   "metadata": {},
   "outputs": [],
   "source": [
    "train_data = (train_data - train_data.mean()) / train_data.std()\n",
    "test_data = (test_data - test_data.mean()) / test_data.std()"
   ]
  },
  {
   "cell_type": "code",
   "execution_count": 215,
   "metadata": {},
   "outputs": [],
   "source": [
    "knn = KNNRegressor(8, \"euclidean\", \"distance\", \"brute\")"
   ]
  },
  {
   "cell_type": "code",
   "execution_count": 216,
   "metadata": {},
   "outputs": [],
   "source": [
    "knn.fit(np.array(train_data), train_target)"
   ]
  },
  {
   "cell_type": "code",
   "execution_count": 217,
   "metadata": {},
   "outputs": [],
   "source": [
    "res_tfidf = knn.predict(np.array(test_data))"
   ]
  },
  {
   "cell_type": "code",
   "execution_count": 218,
   "metadata": {},
   "outputs": [
    {
     "data": {
      "text/plain": [
       "214.29312790785056"
      ]
     },
     "execution_count": 218,
     "metadata": {},
     "output_type": "execute_result"
    }
   ],
   "source": [
    "RMSE(test_target, res_tfidf)"
   ]
  },
  {
   "cell_type": "code",
   "execution_count": 219,
   "metadata": {},
   "outputs": [],
   "source": [
    "knn = KNNRegressor(8, \"euclidean\", \"uniform\", \"brute\")"
   ]
  },
  {
   "cell_type": "code",
   "execution_count": 222,
   "metadata": {},
   "outputs": [],
   "source": [
    "knn.fit(np.array(train_data), train_target)"
   ]
  },
  {
   "cell_type": "code",
   "execution_count": 223,
   "metadata": {},
   "outputs": [
    {
     "name": "stdout",
     "output_type": "stream",
     "text": [
      "(14669, 8)\n"
     ]
    }
   ],
   "source": [
    "res_tfidf_uni = knn.predict(np.array(test_data))"
   ]
  },
  {
   "cell_type": "code",
   "execution_count": 224,
   "metadata": {},
   "outputs": [
    {
     "data": {
      "text/plain": [
       "213.83783423005454"
      ]
     },
     "execution_count": 224,
     "metadata": {},
     "output_type": "execute_result"
    }
   ],
   "source": [
    "RMSE(test_target, res_tfidf_uni)"
   ]
  },
  {
   "cell_type": "code",
   "execution_count": 225,
   "metadata": {},
   "outputs": [],
   "source": [
    "knn = KNNRegressor(8, \"cosine\", \"uniform\", \"brute\")"
   ]
  },
  {
   "cell_type": "code",
   "execution_count": 227,
   "metadata": {},
   "outputs": [],
   "source": [
    "knn.fit(np.array(train_data), train_target)"
   ]
  },
  {
   "cell_type": "code",
   "execution_count": 228,
   "metadata": {},
   "outputs": [
    {
     "name": "stdout",
     "output_type": "stream",
     "text": [
      "(14669, 8)\n"
     ]
    }
   ],
   "source": [
    "res_tfidf_cos = knn.predict(np.array(test_data))"
   ]
  },
  {
   "cell_type": "code",
   "execution_count": 229,
   "metadata": {},
   "outputs": [
    {
     "data": {
      "text/plain": [
       "214.38291068551646"
      ]
     },
     "execution_count": 229,
     "metadata": {},
     "output_type": "execute_result"
    }
   ],
   "source": [
    "RMSE(test_target, res_tfidf_cos)"
   ]
  },
  {
   "cell_type": "code",
   "execution_count": 230,
   "metadata": {},
   "outputs": [],
   "source": [
    "train_text = train_data[['name', 'host_name']]\n",
    "test_text = test_data[['name', 'host_name']]"
   ]
  },
  {
   "cell_type": "code",
   "execution_count": 234,
   "metadata": {},
   "outputs": [],
   "source": [
    "knn = KNNRegressor(8, \"euclidean\", \"uniform\", \"brute\")\n",
    "knn.fit(np.array(train_text), train_target)"
   ]
  },
  {
   "cell_type": "code",
   "execution_count": 235,
   "metadata": {},
   "outputs": [
    {
     "name": "stdout",
     "output_type": "stream",
     "text": [
      "(14669, 8)\n"
     ]
    }
   ],
   "source": [
    "res_text = knn.predict(np.array(test_text))"
   ]
  },
  {
   "cell_type": "code",
   "execution_count": 236,
   "metadata": {},
   "outputs": [
    {
     "data": {
      "text/plain": [
       "239.22707039679113"
      ]
     },
     "execution_count": 236,
     "metadata": {},
     "output_type": "execute_result"
    }
   ],
   "source": [
    "RMSE(test_target, res_text)"
   ]
  },
  {
   "cell_type": "raw",
   "metadata": {},
   "source": [
    "Вариант 2: bag of words"
   ]
  },
  {
   "cell_type": "code",
   "execution_count": 170,
   "metadata": {},
   "outputs": [
    {
     "data": {
      "text/plain": [
       "array([ 1730,  6072,  4815, ..., 25823, 27139, 47408])"
      ]
     },
     "execution_count": 170,
     "metadata": {},
     "output_type": "execute_result"
    }
   ],
   "source": [
    "np.argsort(np.array(data['name']))"
   ]
  },
  {
   "cell_type": "code",
   "execution_count": 172,
   "metadata": {},
   "outputs": [
    {
     "name": "stderr",
     "output_type": "stream",
     "text": [
      "/usr/local/lib/python3.7/site-packages/pandas/core/indexing.py:205: SettingWithCopyWarning: \n",
      "A value is trying to be set on a copy of a slice from a DataFrame\n",
      "\n",
      "See the caveats in the documentation: http://pandas.pydata.org/pandas-docs/stable/user_guide/indexing.html#returning-a-view-versus-a-copy\n",
      "  self._setitem_with_indexer(indexer, value)\n"
     ]
    }
   ],
   "source": [
    "data['name'].loc[47408] = \"Manhattan, a convenient place to go anywhere within a 4-minute walk from the station!\""
   ]
  },
  {
   "cell_type": "code",
   "execution_count": 117,
   "metadata": {},
   "outputs": [],
   "source": [
    "name_array = np.array(data['name'])\n",
    "host_name_array = np.array(data['host_name'])"
   ]
  },
  {
   "cell_type": "code",
   "execution_count": 120,
   "metadata": {},
   "outputs": [],
   "source": [
    "def mass_replace(string, deletions):\n",
    "    \n",
    "    for item in deletions:\n",
    "        string = string.replace(item, \"\")\n",
    "        \n",
    "    return string\n",
    "\n",
    "def modif_array(transf_array):\n",
    "    for enum, item in enumerate(transf_array):\n",
    "        transf_array[enum] = item.lower()\n",
    "        transf_array[enum] = transf_array[enum].replace(\"  \", \" \")\n",
    "        transf_array[enum] = transf_array[enum].replace(\"/\", \" \")\n",
    "        transf_array[enum] = transf_array[enum].replace(\"-\", \" \")\n",
    "        transf_array[enum] = transf_array[enum].replace(\"...\", \" \")\n",
    "        transf_array[enum] = transf_array[enum].replace(\"   \", \" \")\n",
    "        transf_array[enum] = transf_array[enum].replace(\"  \", \" \")\n",
    "\n",
    "    for enum in range(transf_array.__len__()):\n",
    "\n",
    "        transf_array[enum] = mass_replace(transf_array[enum], [\"!\", \",\", \"&\", \".\", \"'\", \":\", \"*\"])"
   ]
  },
  {
   "cell_type": "code",
   "execution_count": 124,
   "metadata": {},
   "outputs": [],
   "source": [
    "modif_array(name_array)\n",
    "modif_array(host_name_array)"
   ]
  },
  {
   "cell_type": "code",
   "execution_count": 125,
   "metadata": {},
   "outputs": [],
   "source": [
    "stop_list = ['herself', 'other', 'has', 'twenty', 'seeming', 'last', 'been', 'many', 'namely', 'per', 'you', 'whenever', 'in', 'hence', 'often', 'sincere', 'everywhere', 'yours', 'ours', 'find', 'done', 'somehow', 'formerly', 'alone', 'whose', 'system', 'seems', 'together', 'over', 'himself', 'elsewhere', 'already', 'call', 'ltd', 'sixty', 'mostly', 'still', 'or', 'yourself', 'thence', 'nobody', 'themselves', 'thick', 'de', 'have', 'no', 'upon', 'these', 'anyhow', 'un', 'couldnt', 'thin', 'detail', 'be', 'much', 'while', 'fifteen', 'co', 'from', 'now', 'herein', 'besides', 'can', 'might', 'itself', 'latter', 'could', 'wherever', 'none', 'anywhere', 'whereafter', 'else', 'thereupon', 'had', 'mine', 'anyone', 'take', 'nine', 'something', 'neither', 'nothing', 'twelve', 'again', 'side', 'are', 'beyond', 'than', 'back', 'hereafter', 'less', 'do', 'against', 'beside', 'your', 'me', 'three', 'were', 'forty', 'meanwhile', 'not', 'whom', 'etc', 'fifty', 'whole', 'several', 'afterwards', 'almost', 'during', 'con', 'thus', 'for', 'move', 'bottom', 'everyone', 'though', 'becoming', 'who', 'becomes', 'until', 'mill', 'bill', 'above', 'between', 'whereby', 'was', 'would', 'they', 'us', 'nor', 'never', 'there', 'cannot', 'may', 'former', 'what', 'please', 'top', 'further', 'empty', 'part', 'which', 'up', 'describe', 'whereupon', 'but', 'via', 'very', 'at', 'ever', 'therefore', 'with', 'latterly', 'within', 'full', 'a', 'get', 'along', 'i', 'next', 'either', 'hers', 'of', 'found', 'whether', 'should', 'two', 'although', 'down', 'to', 'front', 'eg', 'yet', 'thru', 'anything', 'on', 'since', 'perhaps', 'such', 'hereby', 'under', 'where', 'somewhere', 'any', 'one', 'behind', 'being', 'six', 'give', 'thereafter', 'every', 'my', 'five', 'hasnt', 'without', 'amongst', 'four', 'first', 'is', 'our', 'he', 'here', 'someone', 'it', 'by', 'when', 'became', 'more', 'most', 'own', 'third', 'others', 'keep', 'why', 'nevertheless', 'must', 'will', 'across', 'as', 'eight', 'after', 'whence', 'amoungst', 'sometimes', 'then', 'into', 'even', 'so', 'also', 'if', 'whereas', 'thereby', 'her', 'among', 're', 'throughout', 'seem', 'hundred', 'amount', 'therein', 'cant', 'fill', 'serious', 'and', 'that', 'anyway', 'well', 'myself', 'everything', 'ourselves', 'toward', 'indeed', 'about', 'we', 'made', 'see', 'noone', 'how', 'except', 'inc', 'his', 'otherwise', 'sometime', 'go', 'onto', 'those', 'yourselves', 'off', 'eleven', 'them', 'both', 'whither', 'ten', 'him', 'beforehand', 'ie', 'out', 'few', 'same', 'all', 'she', 'whatever', 'before', 'due', 'its', 'their', 'towards', 'am', 'always', 'the', 'seemed', 'only', 'because', 'cry', 'enough', 'fire', 'nowhere', 'show', 'an', 'least', 'too', 'once', 'put', 'interest', 'through', 'below', 'another', 'each', 'wherein', 'some', 'become', 'name', 'whoever', 'around', 'rather', 'this', 'hereupon', 'moreover', 'however']\n",
    "stop_list.append(\"\")"
   ]
  },
  {
   "cell_type": "code",
   "execution_count": 126,
   "metadata": {},
   "outputs": [],
   "source": [
    "name_dict = {}\n",
    "name_split = []\n",
    "\n",
    "for item in name_array:\n",
    "    line = item.split(\" \")\n",
    "    line_kept = [x for x in line if x not in stop_list]\n",
    "    name_split.append(line_kept)\n",
    "    \n",
    "    for part in line_kept:\n",
    "        line_cur = []\n",
    "        if part not in line_cur:\n",
    "            line_cur.append(part)\n",
    "            if part in name_dict:\n",
    "                name_dict[part] += 1\n",
    "            else:\n",
    "                name_dict[part] = 1"
   ]
  },
  {
   "cell_type": "code",
   "execution_count": 127,
   "metadata": {},
   "outputs": [],
   "source": [
    "host_name_dict = {}\n",
    "host_name_split = []\n",
    "\n",
    "for item in host_name_array:\n",
    "    line = item.split(\" \")\n",
    "    line_kept = [x for x in line if x not in stop_list]\n",
    "    host_name_split.append(line_kept)\n",
    "    \n",
    "    for part in line_kept:\n",
    "        line_cur = []\n",
    "        if part not in line_cur:\n",
    "            line_cur.append(part)\n",
    "            if part in host_name_dict:\n",
    "                host_name_dict[part] += 1\n",
    "            else:\n",
    "                host_name_dict[part] = 1"
   ]
  },
  {
   "cell_type": "code",
   "execution_count": 128,
   "metadata": {},
   "outputs": [],
   "source": [
    "name_sorted = [(k, name_dict[k]) for k in sorted(name_dict, key=name_dict.get, reverse=True)]\n",
    "host_sorted = [(k, host_name_dict[k]) for k in sorted(host_name_dict, key=host_name_dict.get, reverse=True)]"
   ]
  },
  {
   "cell_type": "raw",
   "metadata": {},
   "source": [
    "Оставлю только те, что встречаются достаточно часто, ибо среди редких вариантов там уже какая-то дичь вроде смайликов, сердечек и иегорлифов\\иврита"
   ]
  },
  {
   "cell_type": "code",
   "execution_count": 129,
   "metadata": {},
   "outputs": [],
   "source": [
    "def make_matrix(array, words_list, treshold):\n",
    "    \n",
    "    words = []\n",
    "    count = []\n",
    "    for item in words_list:\n",
    "        words.append(item[0])\n",
    "        count.append(item[1])\n",
    "        \n",
    "    words = np.array(words)\n",
    "    count = np.array(count)\n",
    "    \n",
    "    cols = count[np.where(count > treshold)].__len__()\n",
    "    \n",
    "    result = np.zeros(array.__len__() * cols).reshape(array.__len__(), -1)\n",
    "    \n",
    "    for enum in range(array.__len__()):\n",
    "        for item in array[enum]:\n",
    "            pos = np.argwhere(words == item)[0][0]\n",
    "            if pos < cols:\n",
    "                result[enum][pos] += 1\n",
    "    \n",
    "    return result"
   ]
  },
  {
   "cell_type": "code",
   "execution_count": 130,
   "metadata": {},
   "outputs": [],
   "source": [
    "name_matrix = make_matrix(name_split, name_sorted, 300)\n",
    "host_matrix = make_matrix(host_name_split, host_sorted, 50)"
   ]
  },
  {
   "cell_type": "code",
   "execution_count": 131,
   "metadata": {},
   "outputs": [
    {
     "data": {
      "text/plain": [
       "array([149, 225, 150, ..., 115,  55,  90])"
      ]
     },
     "execution_count": 131,
     "metadata": {},
     "output_type": "execute_result"
    }
   ],
   "source": [
    "data_matrix = np.c_[name_matrix, host_matrix]\n",
    "price_col"
   ]
  },
  {
   "cell_type": "code",
   "execution_count": 132,
   "metadata": {},
   "outputs": [],
   "source": [
    "train_data, test_data, train_target, test_target = train_test_split(data_matrix,\n",
    "                                                                    price_col,\n",
    "                                                                    test_size=0.3,\n",
    "                                                                    random_state=241)"
   ]
  },
  {
   "cell_type": "code",
   "execution_count": 133,
   "metadata": {},
   "outputs": [],
   "source": [
    "knn = KNNRegressor(10, \"euclidean\", \"uniform\", \"brute\")\n",
    "knn.fit(train_data, train_target)"
   ]
  },
  {
   "cell_type": "code",
   "execution_count": 134,
   "metadata": {},
   "outputs": [
    {
     "name": "stdout",
     "output_type": "stream",
     "text": [
      "(14669, 10)\n"
     ]
    }
   ],
   "source": [
    "res_BOW = knn.predict(test_data)"
   ]
  },
  {
   "cell_type": "code",
   "execution_count": 135,
   "metadata": {},
   "outputs": [
    {
     "data": {
      "text/plain": [
       "219.47040128147788"
      ]
     },
     "execution_count": 135,
     "metadata": {},
     "output_type": "execute_result"
    }
   ],
   "source": [
    "RMSE(test_target, res_BOW)"
   ]
  },
  {
   "cell_type": "markdown",
   "metadata": {},
   "source": [
    "### Было проведено 3 эксперимента:\n",
    "* Применен TF-IDF на категориальные и текстовые признаки:\n",
    "    * euclidean + distance: RMSE = 214.29312790785056\n",
    "    * euclidean + uniform: RMSE = 213.83783423005454\n",
    "    * cosine + uniform: RMSE = 214.38291068551646\n",
    "* На лучшем из этих 3 был проверен TF-IDF на текстовых признаках:\n",
    "    * RMSE = 239.22707039679113\n",
    "* Была написана своя версия Bag-of-Words, примененная к текстовым признакам. Были отброшены наиболее редкие \"слова\" (многие из них не несли смысла, но часть иероглифов была переведена  (те, что поддались google_translate))\n",
    "    * RMSE - от 220 до 350, лучший - 219.47040128147788"
   ]
  },
  {
   "cell_type": "markdown",
   "metadata": {},
   "source": [
    "<b>3.2 (1 балл)</b> Используя все доступные признаки, решите задачу регрессии. Для категориальных и текстовых признаков выберите лучшие преобразования. Повлияло ли добавление количественного признака на метрику качества?"
   ]
  },
  {
   "cell_type": "markdown",
   "metadata": {},
   "source": [
    "Учитывая то, что работа с текстовыми признаками была достаточно бесполезна (быть может, bag-of-words ещё полезен, но TF-IDF - вряд ли), т.к. для prediction = mean(train_target) получается RMSE = 220, попробую игнорировать name и host_name, и сделаю host_id категориальным признаком"
   ]
  },
  {
   "cell_type": "code",
   "execution_count": 272,
   "metadata": {},
   "outputs": [],
   "source": [
    "new_data = pd.read_csv('AB_NYC_2019.csv')"
   ]
  },
  {
   "cell_type": "code",
   "execution_count": 273,
   "metadata": {},
   "outputs": [],
   "source": [
    "new_data['name'].fillna(\"Noname\", inplace=True)\n",
    "new_data['host_name'].fillna(\"Noname\", inplace=True)"
   ]
  },
  {
   "cell_type": "code",
   "execution_count": 274,
   "metadata": {},
   "outputs": [],
   "source": [
    "from sklearn.feature_extraction.text import TfidfVectorizer"
   ]
  },
  {
   "cell_type": "code",
   "execution_count": 275,
   "metadata": {},
   "outputs": [],
   "source": [
    "# Dropping an id column, it's useless\n",
    "new_data.drop(columns={'id'}, inplace=True)"
   ]
  },
  {
   "cell_type": "code",
   "execution_count": 276,
   "metadata": {},
   "outputs": [],
   "source": [
    "# Modifying last_review\n",
    "# самая поздняя дата - 2019.07.08\n",
    "# чтобы не париться, пусть у нас в месяце 30 дней\n",
    "st = '2019-07-08'\n",
    "ye = int(st[:4])\n",
    "mo = int(st[5:7])\n",
    "day = int(st[8:])"
   ]
  },
  {
   "cell_type": "code",
   "execution_count": 277,
   "metadata": {},
   "outputs": [
    {
     "name": "stderr",
     "output_type": "stream",
     "text": [
      "/usr/local/lib/python3.7/site-packages/pandas/core/indexing.py:205: SettingWithCopyWarning: \n",
      "A value is trying to be set on a copy of a slice from a DataFrame\n",
      "\n",
      "See the caveats in the documentation: http://pandas.pydata.org/pandas-docs/stable/user_guide/indexing.html#returning-a-view-versus-a-copy\n",
      "  self._setitem_with_indexer(indexer, value)\n"
     ]
    }
   ],
   "source": [
    "for enum in range(new_data.__len__()):\n",
    "    date = new_data['last_review'].loc[enum]\n",
    "    if type(date) == str:\n",
    "        value = 365 * (ye - int(date[:4])) + 30 * (mo - int(date[5:7])) + (day - int(date[8:]))\n",
    "        new_data['last_review'].loc[enum] = value"
   ]
  },
  {
   "cell_type": "code",
   "execution_count": 278,
   "metadata": {},
   "outputs": [],
   "source": [
    "new_data['last_review'].fillna(new_data['last_review'].mean(), inplace=True)"
   ]
  },
  {
   "cell_type": "code",
   "execution_count": 279,
   "metadata": {},
   "outputs": [],
   "source": [
    "# fixing nan's in reviews_per_month \n",
    "new_data['reviews_per_month'].fillna(0, inplace=True)"
   ]
  },
  {
   "cell_type": "code",
   "execution_count": 186,
   "metadata": {},
   "outputs": [],
   "source": [
    "def Transforming_fin(df, cols):\n",
    "    \n",
    "    for item in cols:\n",
    "        \n",
    "        helper = df.groupby(item)['price'].mean()\n",
    "        \n",
    "        array = np.empty(df.__len__())\n",
    "        \n",
    "        for enum, element in enumerate(df[item]):\n",
    "            \n",
    "            array[enum] = helper[element]\n",
    "            \n",
    "        df[item+\"new\"] = array\n",
    "\n",
    "def Transform_fin(train_df, test_df, cols):\n",
    "    \n",
    "    Transforming_fin(train_df, cols)\n",
    "\n",
    "    for item in cols:\n",
    "        \n",
    "        replacement = np.empty(test_df.__len__())\n",
    "        target_col = np.array(train_df[item])\n",
    "        target_replacement = np.array(train_df[item+'new'])\n",
    "        \n",
    "        for enum, value in enumerate(test_df[item]):\n",
    "            \n",
    "            pos = np.argwhere(target_col == value).T[0]\n",
    "            if pos.__len__() == 0:\n",
    "                replacement[enum] = 0\n",
    "            else:\n",
    "                replacement[enum] = target_replacement[pos[0]]\n",
    "                \n",
    "        test_df[item] = replacement\n",
    "        train_df[item] = train_df[item + 'new']\n",
    "        train_df.drop(columns={item + 'new'}, inplace=True)"
   ]
  },
  {
   "cell_type": "code",
   "execution_count": 280,
   "metadata": {},
   "outputs": [],
   "source": [
    "from sklearn.model_selection import train_test_split\n",
    "train_data, test_data, train_target, test_target = train_test_split(new_data,\n",
    "                                                                    np.array(new_data['price']),\n",
    "                                                                    test_size=0.3,\n",
    "                                                                    random_state=241)"
   ]
  },
  {
   "cell_type": "code",
   "execution_count": 189,
   "metadata": {},
   "outputs": [
    {
     "name": "stderr",
     "output_type": "stream",
     "text": [
      "/usr/local/lib/python3.7/site-packages/numpy/core/fromnumeric.py:61: FutureWarning: Series.nonzero() is deprecated and will be removed in a future version.Use Series.to_numpy().nonzero() instead\n",
      "  return bound(*args, **kwds)\n",
      "/usr/local/lib/python3.7/site-packages/ipykernel_launcher.py:13: SettingWithCopyWarning: \n",
      "A value is trying to be set on a copy of a slice from a DataFrame.\n",
      "Try using .loc[row_indexer,col_indexer] = value instead\n",
      "\n",
      "See the caveats in the documentation: http://pandas.pydata.org/pandas-docs/stable/user_guide/indexing.html#returning-a-view-versus-a-copy\n",
      "  del sys.path[0]\n",
      "/usr/local/lib/python3.7/site-packages/ipykernel_launcher.py:33: SettingWithCopyWarning: \n",
      "A value is trying to be set on a copy of a slice from a DataFrame.\n",
      "Try using .loc[row_indexer,col_indexer] = value instead\n",
      "\n",
      "See the caveats in the documentation: http://pandas.pydata.org/pandas-docs/stable/user_guide/indexing.html#returning-a-view-versus-a-copy\n",
      "/usr/local/lib/python3.7/site-packages/ipykernel_launcher.py:34: SettingWithCopyWarning: \n",
      "A value is trying to be set on a copy of a slice from a DataFrame.\n",
      "Try using .loc[row_indexer,col_indexer] = value instead\n",
      "\n",
      "See the caveats in the documentation: http://pandas.pydata.org/pandas-docs/stable/user_guide/indexing.html#returning-a-view-versus-a-copy\n",
      "/usr/local/lib/python3.7/site-packages/pandas/core/frame.py:4102: SettingWithCopyWarning: \n",
      "A value is trying to be set on a copy of a slice from a DataFrame\n",
      "\n",
      "See the caveats in the documentation: http://pandas.pydata.org/pandas-docs/stable/user_guide/indexing.html#returning-a-view-versus-a-copy\n",
      "  errors=errors,\n"
     ]
    }
   ],
   "source": [
    "cols = ['host_id', 'neighbourhood_group', 'neighbourhood', 'room_type']\n",
    "Transform_test_df(train_data, test_data, cols)"
   ]
  },
  {
   "cell_type": "code",
   "execution_count": 190,
   "metadata": {},
   "outputs": [
    {
     "data": {
      "text/html": [
       "<div>\n",
       "<style scoped>\n",
       "    .dataframe tbody tr th:only-of-type {\n",
       "        vertical-align: middle;\n",
       "    }\n",
       "\n",
       "    .dataframe tbody tr th {\n",
       "        vertical-align: top;\n",
       "    }\n",
       "\n",
       "    .dataframe thead th {\n",
       "        text-align: right;\n",
       "    }\n",
       "</style>\n",
       "<table border=\"1\" class=\"dataframe\">\n",
       "  <thead>\n",
       "    <tr style=\"text-align: right;\">\n",
       "      <th></th>\n",
       "      <th>name</th>\n",
       "      <th>host_id</th>\n",
       "      <th>host_name</th>\n",
       "      <th>neighbourhood_group</th>\n",
       "      <th>neighbourhood</th>\n",
       "      <th>latitude</th>\n",
       "      <th>longitude</th>\n",
       "      <th>room_type</th>\n",
       "      <th>price</th>\n",
       "      <th>minimum_nights</th>\n",
       "      <th>number_of_reviews</th>\n",
       "      <th>last_review</th>\n",
       "      <th>reviews_per_month</th>\n",
       "      <th>calculated_host_listings_count</th>\n",
       "      <th>availability_365</th>\n",
       "    </tr>\n",
       "  </thead>\n",
       "  <tbody>\n",
       "    <tr>\n",
       "      <td>39319</td>\n",
       "      <td>Large bedroom</td>\n",
       "      <td>60.0</td>\n",
       "      <td>Sara</td>\n",
       "      <td>125.588152</td>\n",
       "      <td>89.544000</td>\n",
       "      <td>40.63628</td>\n",
       "      <td>-73.9697</td>\n",
       "      <td>90.525220</td>\n",
       "      <td>60</td>\n",
       "      <td>2</td>\n",
       "      <td>12</td>\n",
       "      <td>1.0</td>\n",
       "      <td>3.67</td>\n",
       "      <td>3</td>\n",
       "      <td>220</td>\n",
       "    </tr>\n",
       "    <tr>\n",
       "      <td>22796</td>\n",
       "      <td>Sun Drenched Gramercy/East Village!</td>\n",
       "      <td>226.0</td>\n",
       "      <td>Chelsea</td>\n",
       "      <td>197.712695</td>\n",
       "      <td>220.979339</td>\n",
       "      <td>40.73401</td>\n",
       "      <td>-73.9814</td>\n",
       "      <td>212.716015</td>\n",
       "      <td>226</td>\n",
       "      <td>2</td>\n",
       "      <td>15</td>\n",
       "      <td>570.0</td>\n",
       "      <td>0.58</td>\n",
       "      <td>1</td>\n",
       "      <td>0</td>\n",
       "    </tr>\n",
       "  </tbody>\n",
       "</table>\n",
       "</div>"
      ],
      "text/plain": [
       "                                      name  host_id host_name  \\\n",
       "39319                        Large bedroom     60.0      Sara   \n",
       "22796  Sun Drenched Gramercy/East Village!    226.0   Chelsea   \n",
       "\n",
       "       neighbourhood_group  neighbourhood  latitude  longitude   room_type  \\\n",
       "39319           125.588152      89.544000  40.63628   -73.9697   90.525220   \n",
       "22796           197.712695     220.979339  40.73401   -73.9814  212.716015   \n",
       "\n",
       "       price  minimum_nights  number_of_reviews  last_review  \\\n",
       "39319     60               2                 12          1.0   \n",
       "22796    226               2                 15        570.0   \n",
       "\n",
       "       reviews_per_month  calculated_host_listings_count  availability_365  \n",
       "39319               3.67                               3               220  \n",
       "22796               0.58                               1                 0  "
      ]
     },
     "execution_count": 190,
     "metadata": {},
     "output_type": "execute_result"
    }
   ],
   "source": [
    "train_data.head(2)"
   ]
  },
  {
   "cell_type": "code",
   "execution_count": 191,
   "metadata": {},
   "outputs": [],
   "source": [
    "train_data.drop(columns={'price'}, inplace=True)"
   ]
  },
  {
   "cell_type": "code",
   "execution_count": 192,
   "metadata": {},
   "outputs": [],
   "source": [
    "test_data.drop(columns={'price'}, inplace=True)"
   ]
  },
  {
   "cell_type": "code",
   "execution_count": 194,
   "metadata": {},
   "outputs": [],
   "source": [
    "train_data.drop(columns={'name', 'host_name'}, inplace=True)\n",
    "test_data.drop(columns={'name', 'host_name'}, inplace=True)"
   ]
  },
  {
   "cell_type": "code",
   "execution_count": 271,
   "metadata": {},
   "outputs": [],
   "source": [
    "new_train_data = (train_data - train_data.mean()) / train_data.std()\n",
    "new_test_data = (test_data - test_data.mean()) / test_data.std()"
   ]
  },
  {
   "cell_type": "code",
   "execution_count": 196,
   "metadata": {},
   "outputs": [],
   "source": [
    "knn_normed = KNNRegressor(300, \"euclidean\", \"uniform\", \"brute\")"
   ]
  },
  {
   "cell_type": "code",
   "execution_count": 197,
   "metadata": {},
   "outputs": [],
   "source": [
    "knn_normed.fit(np.array(new_train_data), train_target)"
   ]
  },
  {
   "cell_type": "code",
   "execution_count": 198,
   "metadata": {},
   "outputs": [
    {
     "name": "stdout",
     "output_type": "stream",
     "text": [
      "(14669, 300)\n"
     ]
    }
   ],
   "source": [
    "res_normed = knn_normed.predict(np.array(new_test_data))"
   ]
  },
  {
   "cell_type": "code",
   "execution_count": 199,
   "metadata": {},
   "outputs": [
    {
     "data": {
      "text/plain": [
       "199.45321747118723"
      ]
     },
     "execution_count": 199,
     "metadata": {},
     "output_type": "execute_result"
    }
   ],
   "source": [
    "RMSE(test_target, res_normed)"
   ]
  },
  {
   "cell_type": "code",
   "execution_count": 237,
   "metadata": {},
   "outputs": [
    {
     "data": {
      "text/plain": [
       "60.86003022246461"
      ]
     },
     "execution_count": 237,
     "metadata": {},
     "output_type": "execute_result"
    }
   ],
   "source": [
    "mean_absolute_error(test_target, res_normed)"
   ]
  },
  {
   "cell_type": "markdown",
   "metadata": {},
   "source": [
    "Попробую воспользоваться ещё 1 идеей - применить деление на folds и здесь: (я просто заменю только этот этап, а остальные действия возьму те же)"
   ]
  },
  {
   "cell_type": "code",
   "execution_count": 248,
   "metadata": {},
   "outputs": [],
   "source": [
    "def kfold(n, n_folds):\n",
    "\n",
    "    index_list = np.arange(n)\n",
    "\n",
    "    result_list = []\n",
    "    part = 0\n",
    "    each_len = int(n / n_folds)\n",
    "\n",
    "    while part < n_folds - 1:\n",
    "        test_subset = np.array(index_list[part * each_len: (part + 1) * each_len])\n",
    "        train_subset = np.array([x for x in index_list if x not in test_subset])\n",
    "        result_list.append((train_subset, test_subset))\n",
    "        part += 1\n",
    "\n",
    "    test_subset = np.array(index_list[part * each_len:])\n",
    "    train_subset = np.array([x for x in index_list if x not in test_subset])\n",
    "\n",
    "    result_list.append((train_subset, test_subset))\n",
    "\n",
    "    return result_list\n",
    "\n",
    "def Transforming_fold_like(train_df, test_df, cols):\n",
    "            \n",
    "    prices = np.array(train_df['price'])\n",
    "    cv = kfold(train_df.__len__(), 5)\n",
    "    \n",
    "    for item in cols:\n",
    "        \n",
    "        array = np.empty(train_df.__len__())\n",
    "        \n",
    "        target_col = np.array(train_df[item])\n",
    "\n",
    "        for fold in cv:\n",
    "            \n",
    "            train = target_col[fold[0]]\n",
    "            test = target_col[fold[1]]\n",
    "            \n",
    "            for value in np.unique(train):\n",
    "                subset_pos = np.argwhere(train == value).T[0]\n",
    "                real_pos = fold[0][subset_pos]\n",
    "                this_mean = prices[real_pos].mean()\n",
    "                \n",
    "                change_pos = fold[1][np.argwhere(test == value).T[0]]\n",
    "                array[change_pos] = this_mean\n",
    "              \n",
    "        allocations = np.array(train_df[item])\n",
    "        train_df[item] = array\n",
    "        \n",
    "        test_array = np.empty(test_df.__len__())\n",
    "        test_values = np.array(test_df[item])\n",
    "        \n",
    "        for value in np.unique(test_values):\n",
    "            pos = np.argwhere(test_values == value).T[0]\n",
    "            alloc_pos = np.argwhere(allocations == value).T[0]\n",
    "            test_array[pos] = array[alloc_pos].mean()\n",
    "            \n",
    "        test_df[item] = test_array\n",
    "            "
   ]
  },
  {
   "cell_type": "code",
   "execution_count": 281,
   "metadata": {},
   "outputs": [
    {
     "name": "stderr",
     "output_type": "stream",
     "text": [
      "/usr/local/lib/python3.7/site-packages/ipykernel_launcher.py:47: SettingWithCopyWarning: \n",
      "A value is trying to be set on a copy of a slice from a DataFrame.\n",
      "Try using .loc[row_indexer,col_indexer] = value instead\n",
      "\n",
      "See the caveats in the documentation: http://pandas.pydata.org/pandas-docs/stable/user_guide/indexing.html#returning-a-view-versus-a-copy\n",
      "/usr/local/lib/python3.7/site-packages/ipykernel_launcher.py:55: RuntimeWarning: Mean of empty slice.\n",
      "/usr/local/lib/python3.7/site-packages/numpy/core/_methods.py:161: RuntimeWarning: invalid value encountered in double_scalars\n",
      "  ret = ret.dtype.type(ret / rcount)\n",
      "/usr/local/lib/python3.7/site-packages/ipykernel_launcher.py:57: SettingWithCopyWarning: \n",
      "A value is trying to be set on a copy of a slice from a DataFrame.\n",
      "Try using .loc[row_indexer,col_indexer] = value instead\n",
      "\n",
      "See the caveats in the documentation: http://pandas.pydata.org/pandas-docs/stable/user_guide/indexing.html#returning-a-view-versus-a-copy\n"
     ]
    }
   ],
   "source": [
    "cols = ['host_id', 'neighbourhood_group', 'neighbourhood', 'room_type']\n",
    "Transforming_fold_like(train_data, test_data, cols)"
   ]
  },
  {
   "cell_type": "code",
   "execution_count": 282,
   "metadata": {},
   "outputs": [
    {
     "name": "stderr",
     "output_type": "stream",
     "text": [
      "/usr/local/lib/python3.7/site-packages/pandas/core/frame.py:4102: SettingWithCopyWarning: \n",
      "A value is trying to be set on a copy of a slice from a DataFrame\n",
      "\n",
      "See the caveats in the documentation: http://pandas.pydata.org/pandas-docs/stable/user_guide/indexing.html#returning-a-view-versus-a-copy\n",
      "  errors=errors,\n"
     ]
    }
   ],
   "source": [
    "train_data.drop(columns={'price', 'name', 'host_name'}, inplace=True)\n",
    "test_data.drop(columns={'price', 'name', 'host_name'}, inplace=True)"
   ]
  },
  {
   "cell_type": "code",
   "execution_count": 283,
   "metadata": {},
   "outputs": [],
   "source": [
    "new_train_data = (train_data - train_data.mean()) / train_data.std()\n",
    "new_test_data = (test_data - test_data.mean()) / test_data.std()\n",
    "new_train_data.fillna(0, inplace=True)\n",
    "new_test_data.fillna(0, inplace=True)"
   ]
  },
  {
   "cell_type": "code",
   "execution_count": 284,
   "metadata": {},
   "outputs": [],
   "source": [
    "knn_folded = KNNRegressor(45, \"euclidean\", \"uniform\", \"brute\")"
   ]
  },
  {
   "cell_type": "code",
   "execution_count": 285,
   "metadata": {},
   "outputs": [],
   "source": [
    "knn_folded.fit(np.array(new_train_data), train_target)"
   ]
  },
  {
   "cell_type": "code",
   "execution_count": 286,
   "metadata": {},
   "outputs": [
    {
     "name": "stdout",
     "output_type": "stream",
     "text": [
      "(14669, 300)\n"
     ]
    }
   ],
   "source": [
    "res_folded = knn_normed.predict(np.array(new_test_data))"
   ]
  },
  {
   "cell_type": "code",
   "execution_count": 287,
   "metadata": {},
   "outputs": [
    {
     "data": {
      "text/plain": [
       "197.88844564379926"
      ]
     },
     "execution_count": 287,
     "metadata": {},
     "output_type": "execute_result"
    }
   ],
   "source": [
    "RMSE(test_target, res_folded)"
   ]
  },
  {
   "cell_type": "code",
   "execution_count": 288,
   "metadata": {},
   "outputs": [
    {
     "data": {
      "text/plain": [
       "58.292972936123796"
      ]
     },
     "execution_count": 288,
     "metadata": {},
     "output_type": "execute_result"
    }
   ],
   "source": [
    "mean_absolute_error(test_target, res_folded)"
   ]
  },
  {
   "cell_type": "markdown",
   "metadata": {},
   "source": [
    "## Часть 4: Выводы\n"
   ]
  },
  {
   "cell_type": "code",
   "execution_count": 238,
   "metadata": {},
   "outputs": [],
   "source": [
    "# Ваши выводы здесь (ノ°∀°)ノ⌒･*:.｡. .｡.:*･゜ﾟ･*☆\n",
    "# А как напечатать квантор или?"
   ]
  },
  {
   "cell_type": "markdown",
   "metadata": {},
   "source": [
    "Для начала, приведу пример, от чего можно отталкиваться - \"отсутствие обучения\", или угадывание значения"
   ]
  },
  {
   "cell_type": "code",
   "execution_count": 242,
   "metadata": {},
   "outputs": [
    {
     "data": {
      "text/plain": [
       "array([153.74531058, 153.74531058, 153.74531058, ..., 153.74531058,\n",
       "       153.74531058, 153.74531058])"
      ]
     },
     "execution_count": 242,
     "metadata": {},
     "output_type": "execute_result"
    }
   ],
   "source": [
    "result_mean = np.zeros(test_target.__len__()) + np.mean(train_target)\n",
    "result_mean"
   ]
  },
  {
   "cell_type": "code",
   "execution_count": 245,
   "metadata": {},
   "outputs": [
    {
     "data": {
      "text/plain": [
       "220.08083872910572"
      ]
     },
     "execution_count": 245,
     "metadata": {},
     "output_type": "execute_result"
    }
   ],
   "source": [
    "RMSE(test_target, result_mean)"
   ]
  },
  {
   "cell_type": "markdown",
   "metadata": {},
   "source": [
    "#### Оптимальные результаты для категориальных метрик:\n",
    "\n",
    "* overlap: best on k = 198, RMSE = 206.354\n",
    "* flattened_overlap: best on k = 78, RMSE = 205.536\n",
    "* log_overlap: best on k = 164, RMSE = 206.536"
   ]
  },
  {
   "cell_type": "markdown",
   "metadata": {},
   "source": [
    "Т.е. эти методы работают примерно одинаково хорошо, хотя и утилизируют разные способы локализации ближайших соседей. При этом лучшим среди них остаётся flattened_overlap"
   ]
  },
  {
   "cell_type": "markdown",
   "metadata": {},
   "source": [
    "#### Подзадача классификации\n",
    "В задаче классификации гораздо лучше показал себя метод, использующий фолды, максимальный Roc-Auc = 0.885.\n",
    "\n",
    "Используя эти же идеи я сделал итоговую модель"
   ]
  },
  {
   "cell_type": "markdown",
   "metadata": {},
   "source": [
    "#### Замена кат. фич на mean\\std:\n",
    "Хотя замена категориальных значений на std и показала себя лучше в эксперименте, в итоге замена на mean дала лучший результат на других столбцах, поэтому была применена она\n",
    "\n",
    "Только замена на mean (RMSE = 289) или std (RMSE = 215) не даёт никакой пользы, т.к. случайное угадывание не хуже"
   ]
  },
  {
   "cell_type": "markdown",
   "metadata": {},
   "source": [
    "#### Применение текстовых методов:\n",
    "К сожалению, текстовые методы оказались достаточно бесполезны - при применении их к категориальным и текстовым признакам результат был хуже, чем на других методах.(RMSE = 214)\n",
    "\n",
    "При применении к исключительно текстовым (и использование только их) - в лучшем случае результат сравнился с случайным угадыванием (RMSE = 219), в иных - не добирался и до него (RMSE = 230+)"
   ]
  },
  {
   "cell_type": "markdown",
   "metadata": {},
   "source": [
    "#### Итоговая модель:\n",
    "Лучшая точность была получена на методе, заменяющим категориальные признаки на mean(price) по тренировочной выборке с фолдами\n",
    "\n",
    "RMSE = 197.88844564379926"
   ]
  }
 ],
 "metadata": {
  "kernelspec": {
   "display_name": "Python 3",
   "language": "python",
   "name": "python3"
  },
  "language_info": {
   "codemirror_mode": {
    "name": "ipython",
    "version": 3
   },
   "file_extension": ".py",
   "mimetype": "text/x-python",
   "name": "python",
   "nbconvert_exporter": "python",
   "pygments_lexer": "ipython3",
   "version": "3.7.4"
  }
 },
 "nbformat": 4,
 "nbformat_minor": 1
}
